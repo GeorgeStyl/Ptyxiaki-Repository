{
 "cells": [
  {
   "cell_type": "code",
   "execution_count": 1,
   "metadata": {},
   "outputs": [
    {
     "data": {
      "text/plain": [
       "[{'address': '380 New York St, Redlands, California, 92373',\n",
       "  'location': {'x': -117.195649834906, 'y': 34.057251584743},\n",
       "  'score': 100,\n",
       "  'attributes': {'Loc_name': 'World',\n",
       "   'Status': 'M',\n",
       "   'Score': 100,\n",
       "   'Match_addr': '380 New York St, Redlands, California, 92373',\n",
       "   'LongLabel': '380 New York St, Redlands, CA, 92373, USA',\n",
       "   'ShortLabel': '380 New York St',\n",
       "   'Addr_type': 'PointAddress',\n",
       "   'Type': '',\n",
       "   'PlaceName': '',\n",
       "   'Place_addr': '380 New York St, Redlands, California, 92373',\n",
       "   'Phone': '',\n",
       "   'URL': '',\n",
       "   'Rank': 20,\n",
       "   'AddBldg': '',\n",
       "   'AddNum': '380',\n",
       "   'AddNumFrom': '',\n",
       "   'AddNumTo': '',\n",
       "   'AddRange': '',\n",
       "   'Side': '',\n",
       "   'StPreDir': '',\n",
       "   'StPreType': '',\n",
       "   'StName': 'New York',\n",
       "   'StType': 'St',\n",
       "   'StDir': '',\n",
       "   'BldgType': '',\n",
       "   'BldgName': '',\n",
       "   'LevelType': '',\n",
       "   'LevelName': '',\n",
       "   'UnitType': '',\n",
       "   'UnitName': '',\n",
       "   'SubAddr': '',\n",
       "   'StAddr': '380 New York St',\n",
       "   'Block': '',\n",
       "   'Sector': '',\n",
       "   'Nbrhd': '',\n",
       "   'District': '',\n",
       "   'City': 'Redlands',\n",
       "   'MetroArea': '',\n",
       "   'Subregion': 'San Bernardino County',\n",
       "   'Region': 'California',\n",
       "   'RegionAbbr': 'CA',\n",
       "   'Territory': '',\n",
       "   'Zone': '',\n",
       "   'Postal': '92373',\n",
       "   'PostalExt': '8118',\n",
       "   'Country': 'USA',\n",
       "   'CntryName': 'United States',\n",
       "   'LangCode': 'ENG',\n",
       "   'Distance': 0,\n",
       "   'X': -117.195649834906,\n",
       "   'Y': 34.057251584743,\n",
       "   'DisplayX': -117.194790019279,\n",
       "   'DisplayY': 34.057264995788,\n",
       "   'Xmin': -117.195790019279,\n",
       "   'Xmax': -117.193790019279,\n",
       "   'Ymin': 34.056264995788,\n",
       "   'Ymax': 34.058264995788,\n",
       "   'ExInfo': ''},\n",
       "  'extent': {'xmin': -117.195790019279,\n",
       "   'ymin': 34.056264995788,\n",
       "   'xmax': -117.193790019279,\n",
       "   'ymax': 34.058264995788}}]"
      ]
     },
     "execution_count": 1,
     "metadata": {},
     "output_type": "execute_result"
    }
   ],
   "source": [
    "from arcgis.gis import GIS\n",
    "from arcgis.geocoding import geocode\n",
    "\n",
    "gis = GIS(url=\"https://wwww.arcgis.com\", username=\"trifon01\", password=\"tiQjy6-gefhaq-sipzok\")\n",
    "\n",
    "geocode_result = geocode(address=\"380 New York Street, Redlands, CA\")\n",
    "\n",
    "geocode_result\n",
    "\n"
   ]
  }
 ],
 "metadata": {
  "kernelspec": {
   "display_name": "ArcGIS",
   "language": "python",
   "name": "python3"
  },
  "language_info": {
   "codemirror_mode": {
    "name": "ipython",
    "version": 3
   },
   "file_extension": ".py",
   "mimetype": "text/x-python",
   "name": "python",
   "nbconvert_exporter": "python",
   "pygments_lexer": "ipython3",
   "version": "3.9.19"
  }
 },
 "nbformat": 4,
 "nbformat_minor": 2
}
