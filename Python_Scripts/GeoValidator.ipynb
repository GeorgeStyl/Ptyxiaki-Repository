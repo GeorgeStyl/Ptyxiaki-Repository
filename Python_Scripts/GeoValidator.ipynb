{
 "cells": [
  {
   "cell_type": "code",
   "execution_count": 1,
   "metadata": {},
   "outputs": [],
   "source": [
    "import osmtogeojson\n",
    "import requests\n",
    "import json\n",
    "import pandas as pd"
   ]
  },
  {
   "cell_type": "markdown",
   "metadata": {},
   "source": [
    "Get data from Overpass API"
   ]
  },
  {
   "cell_type": "code",
   "execution_count": null,
   "metadata": {},
   "outputs": [
    {
     "name": "stdout",
     "output_type": "stream",
     "text": [
      "Named streets data saved to 'named_streets.csv'\n"
     ]
    }
   ],
   "source": [
    "import requests\n",
    "import pandas as pd\n",
    "\n",
    "# Define Overpass API endpoint\n",
    "url = \"https://overpass-api.de/api/interpreter\"\n",
    "\n",
    "# Define bounding box coordinates (Replace with your values)\n",
    "latMin, latMax = 37.49764419371479, 37.56244081620044\n",
    "lngMin, lngMax = 22.344992459074458, 22.521463853839485\n",
    "\n",
    "# Overpass QL query to get named streets/ways within the bounding box\n",
    "query = f\"\"\"\n",
    "[out:json];\n",
    "(\n",
    "  way({latMin},{lngMin},{latMax},{lngMax})[\"highway\"][\"name\"];\n",
    ");\n",
    "out geom;\n",
    "\"\"\"\n",
    "\n",
    "# Make request to Overpass API\n",
    "response = requests.post(url, data=query)\n",
    "\n",
    "# Parse JSON response\n",
    "osm_data = response.json()\n",
    "\n",
    "# Extract relevant data from OSM JSON response\n",
    "elements = osm_data.get(\"elements\", [])\n",
    "\n",
    "# Prepare a list for DataFrame conversion\n",
    "named_streets_data = []\n",
    "\n",
    "for element in elements:\n",
    "    # Extract tags from element\n",
    "    tags = element.get(\"tags\", {})\n",
    "\n",
    "    # Ensure the 'name' tag is present\n",
    "    if 'name' in tags:\n",
    "        # Handle geometry for 'way' elements (list of coordinates)\n",
    "        geometry = element.get(\"geometry\", [])\n",
    "        \n",
    "        # Add filtered data to the list\n",
    "        named_streets_data.append([\n",
    "            element[\"id\"],\n",
    "            \"way\",\n",
    "            tags.get('name', 'Unnamed Street'),  # Default to 'Unnamed Street' if no name\n",
    "            tags.get('highway', None),\n",
    "            tags.get('name', None),\n",
    "            geometry  # Store the list of coordinates for this street\n",
    "        ])\n",
    "\n",
    "# Convert to DataFrame\n",
    "df_named_streets = pd.DataFrame(named_streets_data, columns=[\"id\", \"type\", \"name\", \"highway\", \"name_en\", \"coordinates\"])\n",
    "\n",
    "# Save named streets data to CSV\n",
    "df_named_streets.to_csv(\"../DataSets/API_Responses/OSM/named_streets.csv\", index=False)\n",
    "\n",
    "print(\"Named streets data saved to 'named_streets.csv'\")\n"
   ]
  },
  {
   "cell_type": "code",
   "execution_count": 9,
   "metadata": {},
   "outputs": [
    {
     "name": "stdout",
     "output_type": "stream",
     "text": [
      "GeoJSON data saved to ../DataSets/GeoJSON/Αγίου_Γεωργίου.geojson\n"
     ]
    }
   ],
   "source": [
    "import json\n",
    "\n",
    "# Function to fix the coordinate order for ArcGIS\n",
    "def fix_coordinates_for_arcgis(geojson_data):\n",
    "    for feature in geojson_data[\"features\"]:\n",
    "        # Swap lat and lon for each coordinate in the 'coordinates' list\n",
    "        feature[\"geometry\"][\"coordinates\"] = [\n",
    "            [coord['lon'], coord['lat']] for coord in feature[\"geometry\"][\"coordinates\"]\n",
    "        ]\n",
    "    return geojson_data\n",
    "\n",
    "# Function to save GeoJSON to file (with correct coordinates)\n",
    "def save_geojson_to_file(road_name, geojson_data):\n",
    "    # Define the file name based on the road name\n",
    "    file_name = \"../DataSets/GeoJSON/\" + road_name.replace(\" \", \"_\").replace(\":\", \"\").replace(\";\", \"\") + \".geojson\"\n",
    "\n",
    "    # Fix the coordinate order for ArcGIS compatibility\n",
    "    geojson_data = fix_coordinates_for_arcgis(geojson_data)\n",
    "\n",
    "    # Save the corrected GeoJSON data to the file\n",
    "    with open(file_name, 'w', encoding='utf-8') as f:\n",
    "        json.dump(geojson_data, f, ensure_ascii=False, indent=2)\n",
    "\n",
    "    print(f\"GeoJSON data saved to {file_name}\")\n",
    "\n",
    "# Function to get GeoJSON for a specific road by name\n",
    "def get_geojson_for_road(road_name):\n",
    "    # Search the dataframe for the road name\n",
    "    filtered_data = df_named_streets[df_named_streets['name'] == road_name]\n",
    "\n",
    "    if not filtered_data.empty:\n",
    "        # Convert the filtered data into GeoJSON format\n",
    "        geojson = {\n",
    "            \"type\": \"FeatureCollection\",\n",
    "            \"features\": []\n",
    "        }\n",
    "\n",
    "        # Loop through the rows of filtered data to create features\n",
    "        for index, row in filtered_data.iterrows():\n",
    "            feature = {\n",
    "                \"type\": \"Feature\",\n",
    "                \"geometry\": {\n",
    "                    \"type\": \"LineString\",\n",
    "                    \"coordinates\": row['coordinates']  # Assuming this is the list of coordinates\n",
    "                },\n",
    "                \"properties\": {\n",
    "                    \"id\": row['id'],\n",
    "                    \"name\": row['name'],\n",
    "                    \"highway\": row['highway']\n",
    "                }\n",
    "            }\n",
    "            geojson[\"features\"].append(feature)\n",
    "        \n",
    "        return geojson\n",
    "    else:\n",
    "        print(f\"Road with name '{road_name}' not found.\")\n",
    "        return None\n",
    "\n",
    "# Example usage: Get the GeoJSON data for a road\n",
    "road_name_input = \"Αγίου Γεωργίου\"  # Replace with your road name\n",
    "geojson_output = get_geojson_for_road(road_name_input)\n",
    "\n",
    "# If geojson_output is a valid GeoJSON, save it to a file\n",
    "if geojson_output:\n",
    "    save_geojson_to_file(road_name_input, geojson_output)\n"
   ]
  }
 ],
 "metadata": {
  "kernelspec": {
   "display_name": "ArcGIS",
   "language": "python",
   "name": "python3"
  },
  "language_info": {
   "codemirror_mode": {
    "name": "ipython",
    "version": 3
   },
   "file_extension": ".py",
   "mimetype": "text/x-python",
   "name": "python",
   "nbconvert_exporter": "python",
   "pygments_lexer": "ipython3",
   "version": "3.9.19"
  }
 },
 "nbformat": 4,
 "nbformat_minor": 2
}
