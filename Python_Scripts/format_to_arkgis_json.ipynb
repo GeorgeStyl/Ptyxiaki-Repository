{
 "cells": [
  {
   "cell_type": "code",
   "execution_count": 2,
   "metadata": {},
   "outputs": [
    {
     "name": "stdout",
     "output_type": "stream",
     "text": [
      "GeoJSON saved to output.geojson\n"
     ]
    }
   ],
   "source": [
    "import json\n",
    "\n",
    "# Function to read your JSON file\n",
    "def read_json_file(input_file):\n",
    "    with open(input_file, 'r') as f:\n",
    "        return json.load(f)\n",
    "\n",
    "# Function to convert the input JSON to GeoJSON format\n",
    "def convert_to_geojson(data):\n",
    "    geojson = {\n",
    "        \"type\": \"FeatureCollection\",  # Root level type\n",
    "        \"features\": []\n",
    "    }\n",
    "\n",
    "    for item in data:\n",
    "        # Create the Feature object\n",
    "        feature = {\n",
    "            \"type\": \"Feature\",\n",
    "            \"geometry\": {\n",
    "                \"type\": \"Point\",  # Assuming coordinates are for a point. Adjust if needed\n",
    "                \"coordinates\": item[\"features\"][\"geometry\"][\"coordinates\"]\n",
    "            },\n",
    "            \"properties\": item[\"features\"][\"properties\"]\n",
    "        }\n",
    "\n",
    "        # Append the feature to the FeatureCollection\n",
    "        geojson[\"features\"].append(feature)\n",
    "\n",
    "    return geojson\n",
    "\n",
    "# Function to write the output GeoJSON file\n",
    "def write_geojson_file(output_file, geojson_data):\n",
    "    with open(output_file, 'w') as f:\n",
    "        json.dump(geojson_data, f, indent=2)\n",
    "    print(f\"GeoJSON saved to {output_file}\")\n",
    "\n",
    "# Main function to process the file\n",
    "def process_file(input_file, output_file):\n",
    "    # Step 1: Read the input JSON file\n",
    "    data = read_json_file(input_file)\n",
    "    \n",
    "    # Step 2: Convert it to GeoJSON format\n",
    "    geojson_data = convert_to_geojson(data)\n",
    "    \n",
    "    # Step 3: Write the output GeoJSON to a file\n",
    "    write_geojson_file(output_file, geojson_data)\n",
    "\n",
    "# Input and output file paths\n",
    "input_file = '../DataSets/Kalavryton_from_mongo.json' \n",
    "output_file = 'output.geojson'\n",
    "\n",
    "# Run the script\n",
    "process_file(input_file, output_file)\n"
   ]
  }
 ],
 "metadata": {
  "kernelspec": {
   "display_name": "ArcGIS",
   "language": "python",
   "name": "python3"
  },
  "language_info": {
   "codemirror_mode": {
    "name": "ipython",
    "version": 3
   },
   "file_extension": ".py",
   "mimetype": "text/x-python",
   "name": "python",
   "nbconvert_exporter": "python",
   "pygments_lexer": "ipython3",
   "version": "3.9.19"
  }
 },
 "nbformat": 4,
 "nbformat_minor": 2
}
