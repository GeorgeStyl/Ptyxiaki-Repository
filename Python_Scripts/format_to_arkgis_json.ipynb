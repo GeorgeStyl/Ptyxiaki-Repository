{
 "cells": [
  {
   "cell_type": "markdown",
   "metadata": {},
   "source": [
    "Reads a GeoJSON file, sorts its geographic features by their latitude, and then writes the sorted features to a new JSON file"
   ]
  },
  {
   "cell_type": "code",
   "execution_count": 4,
   "metadata": {},
   "outputs": [],
   "source": [
    "import json\n",
    "\n",
    "# Function to read the JSON file\n",
    "def read_json_file(input_file):\n",
    "    with open(input_file, 'r', encoding='utf-8') as f:\n",
    "        return json.load(f)\n",
    "\n",
    "# Function to sort the features by latitude\n",
    "def sort_by_latitude(data):\n",
    "    # Sort features by the latitude value, which is the second element in the \"coordinates\" list\n",
    "    sorted_features = sorted(data['features'], key=lambda x: x['geometry']['coordinates'][1])\n",
    "    \n",
    "    # Replace the features with the sorted ones\n",
    "    data['features'] = sorted_features\n",
    "    return data\n",
    "\n",
    "# Function to write the sorted JSON to a new file\n",
    "def write_json_file(output_file, data):\n",
    "    with open(output_file, 'w', encoding='utf-8') as f:\n",
    "        json.dump(data, f, indent=4)\n",
    "\n",
    "# Main function\n",
    "def process_file(input_file, output_file):\n",
    "    # Read the JSON file\n",
    "    data = read_json_file(input_file)\n",
    "    \n",
    "    # Sort the data by latitude\n",
    "    sorted_data = sort_by_latitude(data)\n",
    "    \n",
    "    # Write the sorted data to a new file\n",
    "    write_json_file(output_file, sorted_data)\n",
    "\n"
   ]
  },
  {
   "cell_type": "markdown",
   "metadata": {},
   "source": [
    "Set **input file name**, **output file name**, **output directory**"
   ]
  },
  {
   "cell_type": "code",
   "execution_count": 5,
   "metadata": {},
   "outputs": [],
   "source": [
    "# Input and output file paths\n",
    "input_file = '../DataSets/Karaiskaki_from_mongo.json'\n",
    "\n",
    "# # Get the output filename from the input file\n",
    "output_filename = input_file.split('/')[-1] \n",
    "\n",
    "# # Define the output directory\n",
    "output_directory = '../Python_Scripts/ARKGis/OutputData/'\n",
    "\n",
    "# # Full output path\n",
    "output_file = f'{output_directory}out_{output_filename}'\n"
   ]
  },
  {
   "cell_type": "markdown",
   "metadata": {},
   "source": [
    "Formats the GeoJSON to **ARKGis format** adding an incremental field for debunging (used in ARKGis)"
   ]
  },
  {
   "cell_type": "code",
   "execution_count": 6,
   "metadata": {},
   "outputs": [
    {
     "name": "stdout",
     "output_type": "stream",
     "text": [
      "GeoJSON saved to ../Python_Scripts/ARKGis/OutputData/out_Karaiskaki_from_mongo.json\n"
     ]
    }
   ],
   "source": [
    "import json\n",
    "\n",
    "# Function to read your JSON file\n",
    "def read_json_file(input_file):\n",
    "    with open(input_file, 'r', encoding='utf-8') as f:\n",
    "        return json.load(f)\n",
    "# Function to convert the input JSON to GeoJSON format\n",
    "def convert_to_geojson(data):\n",
    "    geojson = {\n",
    "        \"type\": \"FeatureCollection\",  # Root level type\n",
    "        \"features\": []\n",
    "    }\n",
    "\n",
    "    for item in data:\n",
    "        # Create the Feature object\n",
    "        feature = {\n",
    "            \"type\": \"Feature\",\n",
    "            \"geometry\": {\n",
    "                \"type\": \"Point\",  # Assuming coordinates are for a point. Adjust if needed\n",
    "                \"coordinates\": item[\"features\"][\"geometry\"][\"coordinates\"]\n",
    "            },\n",
    "            \"properties\": item[\"features\"][\"properties\"]\n",
    "        }\n",
    "\n",
    "        # Append the feature to the FeatureCollection\n",
    "        geojson[\"features\"].append(feature)\n",
    "\n",
    "    return geojson\n",
    "\n",
    "# Function to write the output GeoJSON file\n",
    "def write_geojson_file(output_file, geojson_data):\n",
    "    with open(output_file, 'w', encoding='utf-8') as f:\n",
    "        json.dump(geojson_data, f, indent=2)\n",
    "    print(f\"GeoJSON saved to {output_file}\")\n",
    "\n",
    "# Main function to process the file\n",
    "def process_file(input_file, output_file):\n",
    "    # Step 1: Read the input JSON file\n",
    "    data = read_json_file(input_file)\n",
    "    \n",
    "    # Step 2: Convert it to GeoJSON format\n",
    "    geojson_data = convert_to_geojson(data)\n",
    "    sorted_geojson_data = sort_by_latitude(geojson_data)\n",
    "    \n",
    "    myindex = 0\n",
    "    # gia kathe `features` mesa sto sorted_geojson_data, myindex += 1, sorted_geojson_data[i].features.properties.myindex = myindex\n",
    "    # diladi prosthetw ena propery myindex me ascending arithmisi gia na to blepw sto table sto arcgis \n",
    "    for feature in sorted_geojson_data[\"features\"]:\n",
    "        myindex += 1\n",
    "        feature[\"properties\"][\"myindex\"] = myindex\n",
    "        \n",
    "    # Step 3: Write the output GeoJSON to a file\n",
    "    write_geojson_file(output_file, sorted_geojson_data)\n",
    "\n",
    "\n",
    "# Run the script\n",
    "process_file(input_file, output_file)\n",
    "\n"
   ]
  }
 ],
 "metadata": {
  "kernelspec": {
   "display_name": "ArcGIS",
   "language": "python",
   "name": "python3"
  },
  "language_info": {
   "codemirror_mode": {
    "name": "ipython",
    "version": 3
   },
   "file_extension": ".py",
   "mimetype": "text/x-python",
   "name": "python",
   "nbconvert_exporter": "python",
   "pygments_lexer": "ipython3",
   "version": "3.9.19"
  }
 },
 "nbformat": 4,
 "nbformat_minor": 2
}
