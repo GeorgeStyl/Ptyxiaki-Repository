{
 "cells": [
  {
   "cell_type": "code",
   "execution_count": 1,
   "metadata": {},
   "outputs": [
    {
     "name": "stdout",
     "output_type": "stream",
     "text": [
      "connected\n",
      "printing unique IDs...\n"
     ]
    }
   ],
   "source": [
    "from pymongo import MongoClient\n",
    "\n",
    "# Connect to the local MongoDB instance\n",
    "client = MongoClient('localhost', 27017)\n",
    "\n",
    "db = client['Ptyxiaki']\n",
    "collection = db['GPS_Scooters']\n",
    "\n",
    "print('connected')\n",
    "\n",
    "unique_ids = collection.distinct('_id')\n",
    "\n",
    "\n",
    "# Print the unique IDs\n",
    "print('printing unique IDs...')\n",
    "for unique_id in unique_ids:\n",
    "    print(unique_id)"
   ]
  }
 ],
 "metadata": {
  "kernelspec": {
   "display_name": "ArcGIS",
   "language": "python",
   "name": "python3"
  },
  "language_info": {
   "codemirror_mode": {
    "name": "ipython",
    "version": 3
   },
   "file_extension": ".py",
   "mimetype": "text/x-python",
   "name": "python",
   "nbconvert_exporter": "python",
   "pygments_lexer": "ipython3",
   "version": "3.9.19"
  }
 },
 "nbformat": 4,
 "nbformat_minor": 2
}
