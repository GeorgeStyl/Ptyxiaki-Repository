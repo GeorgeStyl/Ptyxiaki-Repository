{
 "cells": [
  {
   "cell_type": "markdown",
   "metadata": {},
   "source": [
    "# Imports and Settings"
   ]
  },
  {
   "cell_type": "code",
   "execution_count": 1,
   "metadata": {
    "ExecuteTime": {
     "end_time": "2025-02-01T18:48:02.444705Z",
     "start_time": "2025-02-01T18:48:02.442519Z"
    },
    "collapsed": false
   },
   "outputs": [],
   "source": [
    "import pandas as pd\n",
    "import matplotlib.pyplot as plt\n",
    "import seaborn as sns\n",
    "import numpy as np\n",
    "from sklearn.cluster import DBSCAN, KMeans\n",
    "from sklearn.neighbors import KernelDensity, BallTree\n",
    "from sklearn.preprocessing import StandardScaler\n",
    "from scipy.spatial import ConvexHull\n",
    "from matplotlib.ticker import ScalarFormatter\n",
    "import os\n",
    "from colorama import Fore, Style\n",
    "import matplotlib.pyplot as plt\n",
    "from scipy.spatial import ConvexHull\n",
    "from shapely.geometry import Polygon\n",
    "import json\n"
   ]
  },
  {
   "cell_type": "markdown",
   "metadata": {
    "collapsed": false
   },
   "source": [
    "# File loading\n"
   ]
  },
  {
   "cell_type": "code",
   "execution_count": 2,
   "metadata": {
    "ExecuteTime": {
     "end_time": "2025-02-01T18:48:02.670714Z",
     "start_time": "2025-02-01T18:48:02.667030Z"
    },
    "collapsed": false
   },
   "outputs": [],
   "source": [
    "columns = [\n",
    "    \"vehicleId\", \n",
    "    \"lat\", \n",
    "    \"lng\", \n",
    "    \"dateStored\", \n",
    "    \"velocity\",\n",
    "    \"odometer\", \n",
    "    \"engineVoltage\", \n",
    "    \"dateStoredHuman\", \n",
    "    \"dateOnlyStoredHuman\",    \n",
    "    \"timeOnly\",\n",
    "    \"bearing\",\n",
    "    \"orientation\", \n",
    "    \"seconds_diff\", \n",
    "    \"acceleration\",\n",
    "    \"isProblem\",\n",
    "    \"trip_id\"\n",
    "]\n",
    "\n",
    "\n",
    "input_dir   = \"../../DataSets/API_Responses/Vehicle_Data/\"\n",
    "filename    = \"all_vehicle_responses.csv\""
   ]
  },
  {
   "cell_type": "markdown",
   "metadata": {},
   "source": [
    "## Enable matloblib UI backend"
   ]
  },
  {
   "cell_type": "code",
   "execution_count": 3,
   "metadata": {},
   "outputs": [],
   "source": [
    "%matplotlib tk"
   ]
  },
  {
   "cell_type": "markdown",
   "metadata": {},
   "source": [
    "## Save plots file"
   ]
  },
  {
   "cell_type": "code",
   "execution_count": 4,
   "metadata": {},
   "outputs": [],
   "source": [
    "PLOT_FOLDER_PATH = \"./Plots/\"\n"
   ]
  },
  {
   "cell_type": "code",
   "execution_count": 5,
   "metadata": {
    "ExecuteTime": {
     "end_time": "2025-02-01T18:48:03.383127Z",
     "start_time": "2025-02-01T18:48:03.325978Z"
    },
    "collapsed": false
   },
   "outputs": [
    {
     "name": "stdout",
     "output_type": "stream",
     "text": [
      "   vehicleId        lat        lng     dateStored  velocity  odometer  \\\n",
      "0          1  37.510833  22.385710  1717682537000       0.0       0.0   \n",
      "1          1  37.510603  22.385977  1717682540000       0.0       0.0   \n",
      "2          1  37.510640  22.385927  1717682545000       6.0       0.0   \n",
      "3          1  37.510750  22.385907  1717682551000       7.0       0.0   \n",
      "4          1  37.510877  22.385698  1717682557000      26.0       0.0   \n",
      "\n",
      "   engineVoltage      dateStoredHuman dateOnlyStoredHuman  timeOnly  \\\n",
      "0           0.28  2024-06-06 17:02:17          2024-06-06  17:02:17   \n",
      "1           0.28  2024-06-06 17:02:20          2024-06-06  17:02:20   \n",
      "2           0.28  2024-06-06 17:02:25          2024-06-06  17:02:25   \n",
      "3           0.28  2024-06-06 17:02:31          2024-06-06  17:02:31   \n",
      "4           0.28  2024-06-06 17:02:37          2024-06-06  17:02:37   \n",
      "\n",
      "      bearing orientation  seconds_diff  trip_id  acceleration  isProblem  \n",
      "0  137.402376   Southeast           NaN       12      0.000000          0  \n",
      "1  312.778670   Northwest           3.0       12      0.000000          0  \n",
      "2  351.785725       North           5.0       12      0.333333          0  \n",
      "3  307.481149   Northwest           6.0       12      0.046296          0  \n",
      "4  318.388767   Northwest           6.0       12      0.879630          0  \n"
     ]
    }
   ],
   "source": [
    "def merge_csv_file(input_dir, filename, columns):\n",
    "    input_file = os.path.join(input_dir, filename)\n",
    "\n",
    "    if not os.path.exists(input_file):\n",
    "        raise FileNotFoundError(f\"File '{filename}' not found in directory '{input_dir}'\")\n",
    "\n",
    "    try:\n",
    "        # Read the CSV while allowing missing columns\n",
    "        df = pd.read_csv(input_file, usecols=lambda x: x.strip() in columns, encoding='utf-8')\n",
    "    except Exception as e:\n",
    "        raise ValueError(f\"Error reading '{input_file}': {e}\")\n",
    "\n",
    "    return df\n",
    "\n",
    "\n",
    "\n",
    "merged_df = merge_csv_file(input_dir, filename, columns)\n",
    "print(merged_df.head())\n"
   ]
  },
  {
   "cell_type": "markdown",
   "metadata": {},
   "source": [
    "Set **Bounding Box** only for **Τρίπολη**"
   ]
  },
  {
   "cell_type": "code",
   "execution_count": 6,
   "metadata": {},
   "outputs": [],
   "source": [
    "latMin = 37.49764419371479\n",
    "latMax = 37.56244081620044\n",
    "lngMin = 22.344992459074458\n",
    "lngMax = 22.521463853839485\n",
    "\n",
    "\n",
    "query_filter = 'lat >= ' +str(latMin)+' & lat <= ' + str(latMax) + ' & lng >= ' +str(lngMin)+ ' & lng <= '+str(lngMax)\n",
    "veh_data_tripoli = merged_df.query( query_filter ).copy(True)\n",
    "merged_df = veh_data_tripoli"
   ]
  },
  {
   "cell_type": "code",
   "execution_count": null,
   "metadata": {},
   "outputs": [],
   "source": []
  },
  {
   "cell_type": "markdown",
   "metadata": {
    "collapsed": false
   },
   "source": [
    "# Data Overview"
   ]
  },
  {
   "cell_type": "code",
   "execution_count": 7,
   "metadata": {
    "ExecuteTime": {
     "end_time": "2025-02-01T18:48:12.258811Z",
     "start_time": "2025-02-01T18:48:12.187714Z"
    },
    "collapsed": false
   },
   "outputs": [
    {
     "data": {
      "text/plain": [
       "Text(0.5, 1.0, 'Density of problem points on spatial coordinates')"
      ]
     },
     "execution_count": 7,
     "metadata": {},
     "output_type": "execute_result"
    }
   ],
   "source": [
    "df = merged_df\n",
    "df_danger = df[df['isProblem'] == 1]\n",
    "# df_danger = df[df['vehicleId'] == 15]\n",
    "\n",
    "\n",
    "sns.set_theme(style=\"ticks\")\n",
    "fig, ax = plt.subplots()\n",
    "#sns.jointplot(x=df_danger['lng'], y=df_danger['lat'], kind=\"hex\", color=\"#4CB391\", ax=ax)\n",
    "ax.hexbin(x=df_danger['lng'], y=df_danger['lat'])\n",
    "ax.set_xlabel('Longitude')\n",
    "ax.set_ylabel('Latitude')\n",
    "\n",
    "plt.gca().xaxis.set_major_formatter(ScalarFormatter())\n",
    "plt.gca().yaxis.set_major_formatter(ScalarFormatter())\n",
    "plt.ticklabel_format(style='plain', axis='both')  # Disable scientific notation\n",
    "\n",
    "\n",
    "ax.set_title('Density of problem points on spatial coordinates')"
   ]
  },
  {
   "cell_type": "markdown",
   "metadata": {},
   "source": [
    "### Init DF15 (VehicleId == 15)"
   ]
  },
  {
   "cell_type": "code",
   "execution_count": 8,
   "metadata": {},
   "outputs": [],
   "source": [
    "# df15 = df[df[\"vehicleId\"] == 15]\n",
    "# df15 = df15.head(500)\n",
    "# df15_problem = df15[df15['isProblem'] == 1]\n",
    "# plt.plot(df15.index, df15['acceleration'])\n",
    "# plt.title('Acceleration vs Index')\n",
    "# plt.ylabel('Acceleration')\n",
    "# plt.xlabel('Index')\n",
    "# plt.scatter(df15_problem.index, df15_problem['acceleration'], color='red')\n",
    "\n",
    "# len(df15)"
   ]
  },
  {
   "cell_type": "code",
   "execution_count": 9,
   "metadata": {
    "ExecuteTime": {
     "end_time": "2025-02-01T18:48:12.613965Z",
     "start_time": "2025-02-01T18:48:12.598846Z"
    },
    "collapsed": false
   },
   "outputs": [
    {
     "data": {
      "text/html": [
       "<div>\n",
       "<style scoped>\n",
       "    .dataframe tbody tr th:only-of-type {\n",
       "        vertical-align: middle;\n",
       "    }\n",
       "\n",
       "    .dataframe tbody tr th {\n",
       "        vertical-align: top;\n",
       "    }\n",
       "\n",
       "    .dataframe thead th {\n",
       "        text-align: right;\n",
       "    }\n",
       "</style>\n",
       "<table border=\"1\" class=\"dataframe\">\n",
       "  <thead>\n",
       "    <tr style=\"text-align: right;\">\n",
       "      <th></th>\n",
       "      <th>lng</th>\n",
       "      <th>lat</th>\n",
       "    </tr>\n",
       "  </thead>\n",
       "  <tbody>\n",
       "    <tr>\n",
       "      <th>count</th>\n",
       "      <td>2004.000000</td>\n",
       "      <td>2004.000000</td>\n",
       "    </tr>\n",
       "    <tr>\n",
       "      <th>mean</th>\n",
       "      <td>22.378294</td>\n",
       "      <td>37.515228</td>\n",
       "    </tr>\n",
       "    <tr>\n",
       "      <th>std</th>\n",
       "      <td>0.007051</td>\n",
       "      <td>0.006222</td>\n",
       "    </tr>\n",
       "    <tr>\n",
       "      <th>min</th>\n",
       "      <td>22.363152</td>\n",
       "      <td>37.497893</td>\n",
       "    </tr>\n",
       "    <tr>\n",
       "      <th>25%</th>\n",
       "      <td>22.372447</td>\n",
       "      <td>37.510790</td>\n",
       "    </tr>\n",
       "    <tr>\n",
       "      <th>50%</th>\n",
       "      <td>22.376483</td>\n",
       "      <td>37.513006</td>\n",
       "    </tr>\n",
       "    <tr>\n",
       "      <th>75%</th>\n",
       "      <td>22.385412</td>\n",
       "      <td>37.519258</td>\n",
       "    </tr>\n",
       "    <tr>\n",
       "      <th>max</th>\n",
       "      <td>22.415382</td>\n",
       "      <td>37.533140</td>\n",
       "    </tr>\n",
       "  </tbody>\n",
       "</table>\n",
       "</div>"
      ],
      "text/plain": [
       "               lng          lat\n",
       "count  2004.000000  2004.000000\n",
       "mean     22.378294    37.515228\n",
       "std       0.007051     0.006222\n",
       "min      22.363152    37.497893\n",
       "25%      22.372447    37.510790\n",
       "50%      22.376483    37.513006\n",
       "75%      22.385412    37.519258\n",
       "max      22.415382    37.533140"
      ]
     },
     "execution_count": 9,
     "metadata": {},
     "output_type": "execute_result"
    }
   ],
   "source": [
    "df_danger[['lng', 'lat']].describe()"
   ]
  },
  {
   "cell_type": "markdown",
   "metadata": {
    "collapsed": false
   },
   "source": [
    "# Clustering"
   ]
  },
  {
   "cell_type": "code",
   "execution_count": 10,
   "metadata": {
    "ExecuteTime": {
     "end_time": "2025-02-01T18:48:17.330420Z",
     "start_time": "2025-02-01T18:48:17.325963Z"
    },
    "collapsed": false
   },
   "outputs": [],
   "source": [
    "# #### MOCK DATA #####\n",
    "#\n",
    "# data = {\n",
    "#     'lng': np.random.uniform(-180, 180, 200),\n",
    "#     'lat': np.random.uniform(-90, 90, 200)\n",
    "# }\n",
    "# df = pd.DataFrame(data)\n",
    "# df_danger = df"
   ]
  },
  {
   "cell_type": "code",
   "execution_count": null,
   "metadata": {
    "ExecuteTime": {
     "end_time": "2025-02-01T18:48:17.808617Z",
     "start_time": "2025-02-01T18:48:17.802262Z"
    },
    "collapsed": false
   },
   "outputs": [],
   "source": []
  },
  {
   "cell_type": "code",
   "execution_count": 11,
   "metadata": {
    "ExecuteTime": {
     "end_time": "2025-02-01T18:48:18.846543Z",
     "start_time": "2025-02-01T18:48:18.474283Z"
    },
    "collapsed": false
   },
   "outputs": [
    {
     "name": "stderr",
     "output_type": "stream",
     "text": [
      "/tmp/ipykernel_53362/1621334586.py:12: SettingWithCopyWarning: \n",
      "A value is trying to be set on a copy of a slice from a DataFrame.\n",
      "Try using .loc[row_indexer,col_indexer] = value instead\n",
      "\n",
      "See the caveats in the documentation: https://pandas.pydata.org/pandas-docs/stable/user_guide/indexing.html#returning-a-view-versus-a-copy\n",
      "  df_danger.loc[:, 'cluster'] = clusters  # Adding cluster labels to DataFrame\n"
     ]
    },
    {
     "name": "stdout",
     "output_type": "stream",
     "text": [
      "Plot saved to ./Plots/\n"
     ]
    }
   ],
   "source": [
    "# Extracting the coordinates\n",
    "coords = df_danger[['lng', 'lat']].values\n",
    "\n",
    "# Standardizing the data for better clustering performance\n",
    "scaler = StandardScaler()\n",
    "coords_scaled = scaler.fit_transform(coords)\n",
    "\n",
    "# Applying DBSCAN\n",
    "dbscan = DBSCAN(eps=0.02, min_samples=4)  # Adjust eps as needed\n",
    "clusters = dbscan.fit_predict(coords_scaled)\n",
    "\n",
    "df_danger.loc[:, 'cluster'] = clusters  # Adding cluster labels to DataFrame\n",
    "\n",
    "\n",
    "df_danger_cluster = df_danger[df_danger['cluster'] > -1]\n",
    "\n",
    "\n",
    "# %matplotlib inline\n",
    "# Plotting the results\n",
    "plt.figure(figsize=(10, 6))\n",
    "plt.scatter(df_danger_cluster['lng'], df_danger_cluster['lat'], c=df_danger_cluster['cluster'], cmap='tab10', edgecolors='k', alpha=0.7)\n",
    "plt.xlabel('Longitude')\n",
    "plt.ylabel('Latitude')\n",
    "plt.title('DBSCAN Clustering of Geospatial Data')\n",
    "plt.colorbar(label='Cluster')\n",
    "\n",
    "# Save the plot\n",
    "plt.savefig(PLOT_FOLDER_PATH, bbox_inches='tight')\n",
    "print(f\"Plot saved to {PLOT_FOLDER_PATH}\")\n",
    "\n",
    "plt.show()\n"
   ]
  },
  {
   "cell_type": "code",
   "execution_count": 12,
   "metadata": {
    "ExecuteTime": {
     "end_time": "2025-02-01T18:48:18.984524Z",
     "start_time": "2025-02-01T18:48:18.979522Z"
    },
    "collapsed": false
   },
   "outputs": [
    {
     "data": {
      "text/plain": [
       "Index(['vehicleId', 'lat', 'lng', 'dateStored', 'velocity', 'odometer',\n",
       "       'engineVoltage', 'dateStoredHuman', 'dateOnlyStoredHuman', 'timeOnly',\n",
       "       'bearing', 'orientation', 'seconds_diff', 'trip_id', 'acceleration',\n",
       "       'isProblem', 'cluster'],\n",
       "      dtype='object')"
      ]
     },
     "execution_count": 12,
     "metadata": {},
     "output_type": "execute_result"
    }
   ],
   "source": [
    "df_danger.columns"
   ]
  },
  {
   "cell_type": "code",
   "execution_count": 13,
   "metadata": {},
   "outputs": [
    {
     "data": {
      "text/html": [
       "<div>\n",
       "<style scoped>\n",
       "    .dataframe tbody tr th:only-of-type {\n",
       "        vertical-align: middle;\n",
       "    }\n",
       "\n",
       "    .dataframe tbody tr th {\n",
       "        vertical-align: top;\n",
       "    }\n",
       "\n",
       "    .dataframe thead th {\n",
       "        text-align: right;\n",
       "    }\n",
       "</style>\n",
       "<table border=\"1\" class=\"dataframe\">\n",
       "  <thead>\n",
       "    <tr style=\"text-align: right;\">\n",
       "      <th></th>\n",
       "      <th>vehicleId</th>\n",
       "      <th>lat</th>\n",
       "      <th>lng</th>\n",
       "      <th>dateStored</th>\n",
       "      <th>velocity</th>\n",
       "      <th>odometer</th>\n",
       "      <th>engineVoltage</th>\n",
       "      <th>bearing</th>\n",
       "      <th>seconds_diff</th>\n",
       "      <th>trip_id</th>\n",
       "      <th>acceleration</th>\n",
       "      <th>isProblem</th>\n",
       "      <th>cluster</th>\n",
       "    </tr>\n",
       "  </thead>\n",
       "  <tbody>\n",
       "    <tr>\n",
       "      <th>count</th>\n",
       "      <td>2004.000000</td>\n",
       "      <td>2004.000000</td>\n",
       "      <td>2004.000000</td>\n",
       "      <td>2.004000e+03</td>\n",
       "      <td>2004.000000</td>\n",
       "      <td>2004.0</td>\n",
       "      <td>2004.000000</td>\n",
       "      <td>2004.000000</td>\n",
       "      <td>2004.000000</td>\n",
       "      <td>2004.000000</td>\n",
       "      <td>2004.000000</td>\n",
       "      <td>2004.0</td>\n",
       "      <td>2004.000000</td>\n",
       "    </tr>\n",
       "    <tr>\n",
       "      <th>mean</th>\n",
       "      <td>7.641717</td>\n",
       "      <td>37.515228</td>\n",
       "      <td>22.378294</td>\n",
       "      <td>1.731541e+12</td>\n",
       "      <td>14.522455</td>\n",
       "      <td>0.0</td>\n",
       "      <td>4.853391</td>\n",
       "      <td>183.387950</td>\n",
       "      <td>3.538423</td>\n",
       "      <td>127.834830</td>\n",
       "      <td>-1.071486</td>\n",
       "      <td>1.0</td>\n",
       "      <td>8.376248</td>\n",
       "    </tr>\n",
       "    <tr>\n",
       "      <th>std</th>\n",
       "      <td>4.173637</td>\n",
       "      <td>0.006222</td>\n",
       "      <td>0.007051</td>\n",
       "      <td>7.882518e+09</td>\n",
       "      <td>15.013025</td>\n",
       "      <td>0.0</td>\n",
       "      <td>0.545188</td>\n",
       "      <td>106.711803</td>\n",
       "      <td>3.119683</td>\n",
       "      <td>139.924229</td>\n",
       "      <td>1.125086</td>\n",
       "      <td>0.0</td>\n",
       "      <td>16.810956</td>\n",
       "    </tr>\n",
       "    <tr>\n",
       "      <th>min</th>\n",
       "      <td>1.000000</td>\n",
       "      <td>37.497893</td>\n",
       "      <td>22.363152</td>\n",
       "      <td>1.717683e+12</td>\n",
       "      <td>0.000000</td>\n",
       "      <td>0.0</td>\n",
       "      <td>0.000000</td>\n",
       "      <td>0.000000</td>\n",
       "      <td>1.000000</td>\n",
       "      <td>0.000000</td>\n",
       "      <td>-14.722222</td>\n",
       "      <td>1.0</td>\n",
       "      <td>-1.000000</td>\n",
       "    </tr>\n",
       "    <tr>\n",
       "      <th>25%</th>\n",
       "      <td>7.000000</td>\n",
       "      <td>37.510790</td>\n",
       "      <td>22.372447</td>\n",
       "      <td>1.728074e+12</td>\n",
       "      <td>6.000000</td>\n",
       "      <td>0.0</td>\n",
       "      <td>4.621000</td>\n",
       "      <td>94.893813</td>\n",
       "      <td>2.000000</td>\n",
       "      <td>18.000000</td>\n",
       "      <td>-1.111111</td>\n",
       "      <td>1.0</td>\n",
       "      <td>-1.000000</td>\n",
       "    </tr>\n",
       "    <tr>\n",
       "      <th>50%</th>\n",
       "      <td>7.000000</td>\n",
       "      <td>37.513006</td>\n",
       "      <td>22.376483</td>\n",
       "      <td>1.730461e+12</td>\n",
       "      <td>10.000000</td>\n",
       "      <td>0.0</td>\n",
       "      <td>4.853000</td>\n",
       "      <td>188.333335</td>\n",
       "      <td>3.000000</td>\n",
       "      <td>70.000000</td>\n",
       "      <td>-0.763889</td>\n",
       "      <td>1.0</td>\n",
       "      <td>-1.000000</td>\n",
       "    </tr>\n",
       "    <tr>\n",
       "      <th>75%</th>\n",
       "      <td>9.000000</td>\n",
       "      <td>37.519258</td>\n",
       "      <td>22.385412</td>\n",
       "      <td>1.738756e+12</td>\n",
       "      <td>18.000000</td>\n",
       "      <td>0.0</td>\n",
       "      <td>5.224500</td>\n",
       "      <td>277.714093</td>\n",
       "      <td>5.000000</td>\n",
       "      <td>202.250000</td>\n",
       "      <td>-0.555556</td>\n",
       "      <td>1.0</td>\n",
       "      <td>11.000000</td>\n",
       "    </tr>\n",
       "    <tr>\n",
       "      <th>max</th>\n",
       "      <td>20.000000</td>\n",
       "      <td>37.533140</td>\n",
       "      <td>22.415382</td>\n",
       "      <td>1.743590e+12</td>\n",
       "      <td>123.000000</td>\n",
       "      <td>0.0</td>\n",
       "      <td>5.551000</td>\n",
       "      <td>359.405846</td>\n",
       "      <td>50.000000</td>\n",
       "      <td>498.000000</td>\n",
       "      <td>-0.505051</td>\n",
       "      <td>1.0</td>\n",
       "      <td>56.000000</td>\n",
       "    </tr>\n",
       "  </tbody>\n",
       "</table>\n",
       "</div>"
      ],
      "text/plain": [
       "         vehicleId          lat          lng    dateStored     velocity  \\\n",
       "count  2004.000000  2004.000000  2004.000000  2.004000e+03  2004.000000   \n",
       "mean      7.641717    37.515228    22.378294  1.731541e+12    14.522455   \n",
       "std       4.173637     0.006222     0.007051  7.882518e+09    15.013025   \n",
       "min       1.000000    37.497893    22.363152  1.717683e+12     0.000000   \n",
       "25%       7.000000    37.510790    22.372447  1.728074e+12     6.000000   \n",
       "50%       7.000000    37.513006    22.376483  1.730461e+12    10.000000   \n",
       "75%       9.000000    37.519258    22.385412  1.738756e+12    18.000000   \n",
       "max      20.000000    37.533140    22.415382  1.743590e+12   123.000000   \n",
       "\n",
       "       odometer  engineVoltage      bearing  seconds_diff      trip_id  \\\n",
       "count    2004.0    2004.000000  2004.000000   2004.000000  2004.000000   \n",
       "mean        0.0       4.853391   183.387950      3.538423   127.834830   \n",
       "std         0.0       0.545188   106.711803      3.119683   139.924229   \n",
       "min         0.0       0.000000     0.000000      1.000000     0.000000   \n",
       "25%         0.0       4.621000    94.893813      2.000000    18.000000   \n",
       "50%         0.0       4.853000   188.333335      3.000000    70.000000   \n",
       "75%         0.0       5.224500   277.714093      5.000000   202.250000   \n",
       "max         0.0       5.551000   359.405846     50.000000   498.000000   \n",
       "\n",
       "       acceleration  isProblem      cluster  \n",
       "count   2004.000000     2004.0  2004.000000  \n",
       "mean      -1.071486        1.0     8.376248  \n",
       "std        1.125086        0.0    16.810956  \n",
       "min      -14.722222        1.0    -1.000000  \n",
       "25%       -1.111111        1.0    -1.000000  \n",
       "50%       -0.763889        1.0    -1.000000  \n",
       "75%       -0.555556        1.0    11.000000  \n",
       "max       -0.505051        1.0    56.000000  "
      ]
     },
     "execution_count": 13,
     "metadata": {},
     "output_type": "execute_result"
    }
   ],
   "source": [
    "df_danger.describe()"
   ]
  },
  {
   "cell_type": "markdown",
   "metadata": {
    "collapsed": false
   },
   "source": [
    "## Showing convex hulls"
   ]
  },
  {
   "cell_type": "code",
   "execution_count": null,
   "metadata": {
    "ExecuteTime": {
     "end_time": "2025-02-01T18:48:21.258667Z",
     "start_time": "2025-02-01T18:48:21.249980Z"
    },
    "collapsed": false
   },
   "outputs": [],
   "source": []
  },
  {
   "cell_type": "code",
   "execution_count": 14,
   "metadata": {
    "ExecuteTime": {
     "end_time": "2025-02-01T18:48:21.832752Z",
     "start_time": "2025-02-01T18:48:21.685594Z"
    },
    "collapsed": false
   },
   "outputs": [
    {
     "name": "stderr",
     "output_type": "stream",
     "text": [
      "/tmp/ipykernel_53362/113842607.py:3: MatplotlibDeprecationWarning: The get_cmap function was deprecated in Matplotlib 3.7 and will be removed in 3.11. Use ``matplotlib.colormaps[name]`` or ``matplotlib.colormaps.get_cmap()`` or ``pyplot.get_cmap()`` instead.\n",
      "  colors = plt.cm.get_cmap(\"tab10\", len(unique_clusters))  # Set of distinct colors for clusters\n"
     ]
    },
    {
     "name": "stdout",
     "output_type": "stream",
     "text": [
      "Plot saved to ./Plots/\n"
     ]
    }
   ],
   "source": [
    "def plot_convex_hulls(df, clusters, normal_df_points):\n",
    "    unique_clusters = set(clusters)\n",
    "    colors = plt.cm.get_cmap(\"tab10\", len(unique_clusters))  # Set of distinct colors for clusters\n",
    "\n",
    "    fig, ax = plt.subplots()  # Create figure and axis objects\n",
    "\n",
    "    # Plot points first for colorbar\n",
    "    for cluster in unique_clusters:\n",
    "        if cluster == -1:\n",
    "            continue  # Skip noise points\n",
    "        cluster_points = df[df['cluster'] == cluster][['lng', 'lat']].values\n",
    "        ax.scatter(cluster_points[:, 0], cluster_points[:, 1], label=f'Cluster {cluster}', c=[colors(cluster)], s=10)\n",
    "\n",
    "    ax.scatter(normal_df_points['lng'], normal_df_points['lat'], c='gray', alpha=0.5)\n",
    "\n",
    "    # Plot Convex Hulls\n",
    "    for cluster in unique_clusters:\n",
    "        if cluster == -1:\n",
    "            continue  # Skip noise points\n",
    "        cluster_points = df[df['cluster'] == cluster][['lng', 'lat']].values\n",
    "        if len(cluster_points) >= 3:  # Convex hull requires at least 3 points\n",
    "            hull = ConvexHull(cluster_points)\n",
    "            hull_points = np.append(hull.vertices, hull.vertices[0])  # Close the loop\n",
    "            ax.plot(cluster_points[hull_points, 0], cluster_points[hull_points, 1], 'r-')\n",
    "\n",
    "    ax.set_xlabel('Longitude')\n",
    "    ax.set_ylabel('Latitude')\n",
    "    ax.set_title('DBSCAN Clustering of Geospatial Data with Convex Hulls')\n",
    "\n",
    "    # Create colorbar using scatter points\n",
    "    cb = fig.colorbar(plt.cm.ScalarMappable(cmap=\"tab10\", norm=plt.Normalize(vmin=min(unique_clusters), vmax=max(unique_clusters))),\n",
    "                      ax=ax, label='Cluster')\n",
    "\n",
    "    # Save the plot\n",
    "    plt.savefig(PLOT_FOLDER_PATH, bbox_inches='tight')\n",
    "    print(f\"Plot saved to {PLOT_FOLDER_PATH}\")\n",
    "\n",
    "    plt.show()\n",
    "\n",
    "plot_convex_hulls(df_danger_cluster, clusters, df[df['isProblem'] == 0])\n"
   ]
  },
  {
   "cell_type": "markdown",
   "metadata": {},
   "source": [
    "## Get specific **Cluster's BBOX**"
   ]
  },
  {
   "cell_type": "code",
   "execution_count": 15,
   "metadata": {},
   "outputs": [
    {
     "name": "stdout",
     "output_type": "stream",
     "text": [
      "Cluster 0: {'min_lng': 22.3853133, 'max_lng': 22.3874133, 'min_lat': 37.5102916, 'max_lat': 37.5114683}\n",
      "Cluster 1: {'min_lng': 22.3841633, 'max_lng': 22.3843916, 'min_lat': 37.510425, 'max_lat': 37.5105433}\n",
      "Cluster 2: {'min_lng': 22.3848866, 'max_lng': 22.3851333, 'min_lat': 37.5107683, 'max_lat': 37.5109899}\n",
      "Cluster 3: {'min_lng': 22.3844933, 'max_lng': 22.3848033, 'min_lat': 37.510815, 'max_lat': 37.5110133}\n",
      "Cluster 4: {'min_lng': 22.3854, 'max_lng': 22.3854449, 'min_lat': 37.5114433, 'max_lat': 37.5117283}\n",
      "Cluster 5: {'min_lng': 22.3832566, 'max_lng': 22.3834216, 'min_lat': 37.5120583, 'max_lat': 37.512245}\n",
      "Cluster 6: {'min_lng': 22.3759916, 'max_lng': 22.3763466, 'min_lat': 37.512855, 'max_lat': 37.5131816}\n",
      "Cluster 7: {'min_lng': 22.3749533, 'max_lng': 22.3750599, 'min_lat': 37.509825, 'max_lat': 37.509945}\n",
      "Cluster 8: {'min_lng': 22.3840833, 'max_lng': 22.3842783, 'min_lat': 37.5138016, 'max_lat': 37.5138783}\n",
      "Cluster 9: {'min_lng': 22.372835, 'max_lng': 22.3731166, 'min_lat': 37.5289633, 'max_lat': 37.5291799}\n",
      "Cluster 10: {'min_lng': 22.3719916, 'max_lng': 22.3721733, 'min_lat': 37.52493, 'max_lat': 37.5250666}\n",
      "Cluster 11: {'min_lng': 22.3722233, 'max_lng': 22.3726783, 'min_lat': 37.52681, 'max_lat': 37.5273516}\n",
      "Cluster 12: {'min_lng': 22.3695883, 'max_lng': 22.3697833, 'min_lat': 37.5115, 'max_lat': 37.51166}\n",
      "Cluster 13: {'min_lng': 22.3745449, 'max_lng': 22.3747466, 'min_lat': 37.509585, 'max_lat': 37.5098233}\n",
      "Cluster 14: {'min_lng': 22.3673316, 'max_lng': 22.36759, 'min_lat': 37.5141383, 'max_lat': 37.5143233}\n",
      "Cluster 15: {'min_lng': 22.3735466, 'max_lng': 22.3736883, 'min_lat': 37.50836, 'max_lat': 37.5085399}\n",
      "Cluster 16: {'min_lng': 22.379535, 'max_lng': 22.3796, 'min_lat': 37.5213083, 'max_lat': 37.5213983}\n",
      "Cluster 17: {'min_lng': 22.3806366, 'max_lng': 22.3808183, 'min_lat': 37.5209833, 'max_lat': 37.5210983}\n",
      "Cluster 18: {'min_lng': 22.3732616, 'max_lng': 22.3737316, 'min_lat': 37.5111483, 'max_lat': 37.51154}\n",
      "Cluster 19: {'min_lng': 22.372555, 'max_lng': 22.3727066, 'min_lat': 37.521425, 'max_lat': 37.5216549}\n",
      "Cluster 20: {'min_lng': 22.3715183, 'max_lng': 22.3721316, 'min_lat': 37.5270233, 'max_lat': 37.5274349}\n",
      "Cluster 21: {'min_lng': 22.3720699, 'max_lng': 22.3725516, 'min_lat': 37.521895, 'max_lat': 37.5221616}\n",
      "Cluster 22: {'min_lng': 22.3731849, 'max_lng': 22.37339, 'min_lat': 37.5114183, 'max_lat': 37.5115433}\n",
      "Cluster 23: {'min_lng': 22.37289, 'max_lng': 22.3729916, 'min_lat': 37.51149, 'max_lat': 37.511555}\n",
      "Cluster 24: {'min_lng': 22.3709299, 'max_lng': 22.3710433, 'min_lat': 37.5186449, 'max_lat': 37.5186983}\n",
      "Cluster 25: {'min_lng': 22.3739116, 'max_lng': 22.37446, 'min_lat': 37.5130683, 'max_lat': 37.5134366}\n",
      "Cluster 26: {'min_lng': 22.3744883, 'max_lng': 22.37585, 'min_lat': 37.5127133, 'max_lat': 37.5133983}\n",
      "Cluster 27: {'min_lng': 22.369125, 'max_lng': 22.3693816, 'min_lat': 37.5153816, 'max_lat': 37.5157916}\n",
      "Cluster 28: {'min_lng': 22.3729466, 'max_lng': 22.3733466, 'min_lat': 37.5208, 'max_lat': 37.5209883}\n",
      "Cluster 29: {'min_lng': 22.3754416, 'max_lng': 22.3755366, 'min_lat': 37.5129616, 'max_lat': 37.51309}\n",
      "Cluster 30: {'min_lng': 22.3789333, 'max_lng': 22.3792183, 'min_lat': 37.5222066, 'max_lat': 37.5222899}\n",
      "Cluster 31: {'min_lng': 22.3721666, 'max_lng': 22.3723683, 'min_lat': 37.5261566, 'max_lat': 37.5264249}\n",
      "Cluster 32: {'min_lng': 22.3724633, 'max_lng': 22.3725316, 'min_lat': 37.5223083, 'max_lat': 37.5223533}\n",
      "Cluster 33: {'min_lng': 22.3697533, 'max_lng': 22.3699449, 'min_lat': 37.5192666, 'max_lat': 37.5194466}\n",
      "Cluster 34: {'min_lng': 22.3713949, 'max_lng': 22.3716216, 'min_lat': 37.5267716, 'max_lat': 37.526845}\n",
      "Cluster 35: {'min_lng': 22.3703516, 'max_lng': 22.3704949, 'min_lat': 37.5121266, 'max_lat': 37.5122316}\n",
      "Cluster 36: {'min_lng': 22.371305, 'max_lng': 22.371385, 'min_lat': 37.5125249, 'max_lat': 37.512655}\n",
      "Cluster 37: {'min_lng': 22.3720566, 'max_lng': 22.37217, 'min_lat': 37.5240233, 'max_lat': 37.5242083}\n",
      "Cluster 38: {'min_lng': 22.3728933, 'max_lng': 22.3730516, 'min_lat': 37.511175, 'max_lat': 37.5112699}\n",
      "Cluster 39: {'min_lng': 22.3763533, 'max_lng': 22.3765433, 'min_lat': 37.5128116, 'max_lat': 37.5129816}\n",
      "Cluster 40: {'min_lng': 22.3712583, 'max_lng': 22.3715249, 'min_lat': 37.5312116, 'max_lat': 37.5313683}\n",
      "Cluster 41: {'min_lng': 22.37789, 'max_lng': 22.3781666, 'min_lat': 37.5250533, 'max_lat': 37.5252999}\n",
      "Cluster 42: {'min_lng': 22.3707233, 'max_lng': 22.3710849, 'min_lat': 37.530565, 'max_lat': 37.53072}\n",
      "Cluster 43: {'min_lng': 22.3712416, 'max_lng': 22.3713666, 'min_lat': 37.5306583, 'max_lat': 37.5307449}\n",
      "Cluster 44: {'min_lng': 22.3822883, 'max_lng': 22.3824783, 'min_lat': 37.519085, 'max_lat': 37.5192216}\n",
      "Cluster 45: {'min_lng': 22.3815383, 'max_lng': 22.3817683, 'min_lat': 37.5182666, 'max_lat': 37.51846}\n",
      "Cluster 46: {'min_lng': 22.3792266, 'max_lng': 22.3797466, 'min_lat': 37.5100083, 'max_lat': 37.51049}\n",
      "Cluster 47: {'min_lng': 22.3781716, 'max_lng': 22.3783366, 'min_lat': 37.5115, 'max_lat': 37.511555}\n",
      "Cluster 48: {'min_lng': 22.379495, 'max_lng': 22.3796816, 'min_lat': 37.5106266, 'max_lat': 37.51087}\n",
      "Cluster 49: {'min_lng': 22.37901, 'max_lng': 22.37926, 'min_lat': 37.5095333, 'max_lat': 37.5098316}\n",
      "Cluster 50: {'min_lng': 22.3805999, 'max_lng': 22.3808816, 'min_lat': 37.51096, 'max_lat': 37.5110449}\n",
      "Cluster 51: {'min_lng': 22.381105, 'max_lng': 22.3812733, 'min_lat': 37.51169, 'max_lat': 37.5117383}\n",
      "Cluster 52: {'min_lng': 22.3840316, 'max_lng': 22.3842216, 'min_lat': 37.5147333, 'max_lat': 37.514995}\n",
      "Cluster 53: {'min_lng': 22.3879333, 'max_lng': 22.3886466, 'min_lat': 37.515015, 'max_lat': 37.515735}\n",
      "Cluster 54: {'min_lng': 22.3797633, 'max_lng': 22.3801566, 'min_lat': 37.5110583, 'max_lat': 37.5114033}\n",
      "Cluster 55: {'min_lng': 22.38037, 'max_lng': 22.3805866, 'min_lat': 37.5205566, 'max_lat': 37.5206416}\n",
      "Cluster 56: {'min_lng': 22.3729316, 'max_lng': 22.373, 'min_lat': 37.5283533, 'max_lat': 37.5285433}\n"
     ]
    }
   ],
   "source": [
    "def get_bbox_of_clusters(df, clusters):\n",
    "    cluster_bboxes = {}\n",
    "\n",
    "    # Iterate over unique clusters (excluding -1 for noise)\n",
    "    unique_clusters = sorted(set(clusters) - {-1})  # Exclude noise points (-1)\n",
    "\n",
    "    for cluster in unique_clusters:\n",
    "        # Filter the points of the current cluster\n",
    "        cluster_points = df[df['cluster'] == cluster][['lng', 'lat']]\n",
    "        \n",
    "        # Get the minimum and maximum lng and lat for the bounding box\n",
    "        min_lng = cluster_points['lng'].min()\n",
    "        max_lng = cluster_points['lng'].max()\n",
    "        min_lat = cluster_points['lat'].min()\n",
    "        max_lat = cluster_points['lat'].max()\n",
    "\n",
    "        # Store the bounding box for the current cluster\n",
    "        cluster_bboxes[cluster] = {\n",
    "            'min_lng': min_lng,\n",
    "            'max_lng': max_lng,\n",
    "            'min_lat': min_lat,\n",
    "            'max_lat': max_lat\n",
    "        }\n",
    "\n",
    "    return cluster_bboxes\n",
    "\n",
    "cluster_bboxes = get_bbox_of_clusters(df_danger_cluster, clusters)\n",
    "\n",
    "# Display the bounding boxes for each cluster\n",
    "for cluster, bbox in cluster_bboxes.items():\n",
    "    print(f\"Cluster {cluster}: {bbox}\")\n"
   ]
  },
  {
   "cell_type": "markdown",
   "metadata": {
    "ExecuteTime": {
     "end_time": "2025-02-01T18:48:29.200017Z",
     "start_time": "2025-02-01T18:48:29.191447Z"
    },
    "collapsed": false
   },
   "source": [
    "## Plot Orientations with Convex Hulls"
   ]
  },
  {
   "cell_type": "markdown",
   "metadata": {},
   "source": [
    "### Define Trips **every 3 seconds**"
   ]
  },
  {
   "cell_type": "markdown",
   "metadata": {},
   "source": [
    "#### **Δεδομένου ότι η Powerfleet είπε ότι μία από τις προυποθέσεις είναι καθε 3 seconds, έβαλα 6 seconds για να καλυψω το χρονο αποστολής έως εγγραφής στη Data Base**"
   ]
  },
  {
   "cell_type": "code",
   "execution_count": 16,
   "metadata": {
    "ExecuteTime": {
     "end_time": "2025-02-01T18:48:29.390169Z",
     "start_time": "2025-02-01T18:48:29.385043Z"
    },
    "collapsed": false
   },
   "outputs": [
    {
     "name": "stderr",
     "output_type": "stream",
     "text": [
      "/tmp/ipykernel_53362/111146248.py:13: SettingWithCopyWarning: \n",
      "A value is trying to be set on a copy of a slice from a DataFrame.\n",
      "Try using .loc[row_indexer,col_indexer] = value instead\n",
      "\n",
      "See the caveats in the documentation: https://pandas.pydata.org/pandas-docs/stable/user_guide/indexing.html#returning-a-view-versus-a-copy\n",
      "  df_danger['trip_id'] = df_danger.groupby('vehicleId', group_keys=False)['seconds_diff'].apply(lambda x: (x >= 6).cumsum()).reset_index(drop=True)\n"
     ]
    }
   ],
   "source": [
    "import pandas as pd\n",
    "\n",
    "# Create a copy of df_danger\n",
    "danger_orient = df_danger.copy()\n",
    "\n",
    "# Ensure 'dateStoredHuman' is in datetime format\n",
    "danger_orient['dateStoredHuman'] = pd.to_datetime(danger_orient['dateStoredHuman'])\n",
    "\n",
    "# Sort data by vehicleId and dateStoredHuman\n",
    "danger_orient = danger_orient.sort_values(by=['vehicleId', 'dateStoredHuman'])\n",
    "\n",
    "# Assign trip_id based on a gap of 6 seconds\n",
    "df_danger['trip_id'] = df_danger.groupby('vehicleId', group_keys=False)['seconds_diff'].apply(lambda x: (x >= 6).cumsum()).reset_index(drop=True)\n",
    "\n",
    "# Fill NaN trip IDs (first row of each vehicle) with 0\n",
    "danger_orient.loc[:, 'trip_id'] = danger_orient['trip_id'].fillna(0).astype(int)"
   ]
  },
  {
   "cell_type": "markdown",
   "metadata": {},
   "source": [
    "# TODO:: NA ΥΠΟΛΟΓΙΣΩ CONVEX HULLS ΓΙΑ ΤΑ ORIENTATIONS (ΠΡΕΠΕΙ ΝΑ ΕΙΝΑΙ ΕΝΤΟΣ 6 secs???)"
   ]
  },
  {
   "cell_type": "markdown",
   "metadata": {
    "ExecuteTime": {
     "end_time": "2025-02-01T18:48:29.581721Z",
     "start_time": "2025-02-01T18:48:29.577151Z"
    },
    "collapsed": false
   },
   "source": [
    "## Prepare the DF"
   ]
  },
  {
   "cell_type": "code",
   "execution_count": 17,
   "metadata": {
    "ExecuteTime": {
     "end_time": "2025-02-01T18:48:29.755180Z",
     "start_time": "2025-02-01T18:48:29.750637Z"
    },
    "collapsed": false
   },
   "outputs": [
    {
     "name": "stdout",
     "output_type": "stream",
     "text": [
      "       vehicleId        lat        lng     bearing orientation  seconds_diff  \\\n",
      "0              1  37.510833  22.385710  137.402376   Southeast           NaN   \n",
      "1              1  37.510603  22.385977  312.778670   Northwest           3.0   \n",
      "2              1  37.510640  22.385927  351.785725       North           5.0   \n",
      "3              1  37.510750  22.385907  307.481149   Northwest           6.0   \n",
      "4              1  37.510877  22.385698  318.388767   Northwest           6.0   \n",
      "...          ...        ...        ...         ...         ...           ...   \n",
      "27223         20  37.531460  22.369768  231.663210   Southwest           4.0   \n",
      "27224         20  37.531275  22.369473  235.207818   Southwest           2.0   \n",
      "27225         20  37.531122  22.369195  278.389323        West           4.0   \n",
      "27226         20  37.531148  22.368967  294.596339   Northwest           2.0   \n",
      "27227         20  37.531243  22.368705  135.769171   Southeast           3.0   \n",
      "\n",
      "       trip_id  \n",
      "0           12  \n",
      "1           12  \n",
      "2           12  \n",
      "3           12  \n",
      "4           12  \n",
      "...        ...  \n",
      "27223        0  \n",
      "27224        0  \n",
      "27225        0  \n",
      "27226        0  \n",
      "27227        0  \n",
      "\n",
      "[27228 rows x 7 columns]\n",
      "The trip_id with the most rows for vehicleId 1 is: 64\n"
     ]
    }
   ],
   "source": [
    "# *Get specific columns \n",
    "_ = merged_df.copy()\n",
    "bearings_df = _[['vehicleId', 'lat', 'lng', 'bearing', 'orientation', 'seconds_diff', 'trip_id']]\n",
    "print(bearings_df)\n",
    "\n",
    "# Filter for vehicleId == 1\n",
    "df_vehicle1 = df[df['vehicleId'] == 1]\n",
    "\n",
    "# Count occurrences of each trip_id\n",
    "trip_counts = df_vehicle1['trip_id'].value_counts()\n",
    "\n",
    "# Get the trip_id with the highest count\n",
    "most_frequent_trip_id = trip_counts.idxmax()\n",
    "\n",
    "# Display the result\n",
    "print(f\"The trip_id with the most rows for vehicleId 1 is: {most_frequent_trip_id}\")\n"
   ]
  },
  {
   "cell_type": "markdown",
   "metadata": {},
   "source": [
    "### Get trip_id's rows"
   ]
  },
  {
   "cell_type": "code",
   "execution_count": 18,
   "metadata": {
    "ExecuteTime": {
     "end_time": "2025-02-01T18:48:29.911737Z",
     "start_time": "2025-02-01T18:48:29.907023Z"
    },
    "collapsed": false
   },
   "outputs": [
    {
     "name": "stdout",
     "output_type": "stream",
     "text": [
      "     vehicleId        lat        lng     dateStored  velocity  odometer  \\\n",
      "857          1  37.510790  22.386127  1717841444000      18.0       0.0   \n",
      "858          1  37.510803  22.385997  1717841468000       7.0       0.0   \n",
      "859          1  37.510780  22.386223  1717841474000      17.0       0.0   \n",
      "860          1  37.510742  22.386365  1717841477000      11.0       0.0   \n",
      "861          1  37.510697  22.386493  1717841488000       9.0       0.0   \n",
      "\n",
      "     engineVoltage      dateStoredHuman dateOnlyStoredHuman  timeOnly  \\\n",
      "857          5.413  2024-06-08 13:10:44          2024-06-08  13:10:44   \n",
      "858          5.413  2024-06-08 13:11:08          2024-06-08  13:11:08   \n",
      "859          5.413  2024-06-08 13:11:14          2024-06-08  13:11:14   \n",
      "860          5.413  2024-06-08 13:11:17          2024-06-08  13:11:17   \n",
      "861          5.420  2024-06-08 13:11:28          2024-06-08  13:11:28   \n",
      "\n",
      "        bearing orientation  seconds_diff  trip_id  acceleration  isProblem  \n",
      "857  277.349174        West           5.0       64      0.000000          0  \n",
      "858   97.382548        East          24.0       64     -0.127315          0  \n",
      "859  108.861716        East           6.0       64      0.462963          0  \n",
      "860  113.853161   Southeast           3.0       64     -0.555556          1  \n",
      "861  258.443206        West          11.0       64     -0.050505          0  \n"
     ]
    }
   ],
   "source": [
    "# Get all rows corresponding to the most frequent trip_id for vehicleId 1\n",
    "df_most_frequent_trip = df[(df['vehicleId'] == 1) & (df['trip_id'] == most_frequent_trip_id)]\n",
    "\n",
    "# Display the first few rows\n",
    "print(df_most_frequent_trip.head())\n"
   ]
  },
  {
   "cell_type": "markdown",
   "metadata": {},
   "source": [
    "## Calculate Bearing diff"
   ]
  },
  {
   "cell_type": "code",
   "execution_count": 19,
   "metadata": {
    "ExecuteTime": {
     "end_time": "2025-02-01T18:48:30.106270Z",
     "start_time": "2025-02-01T18:48:30.101129Z"
    },
    "collapsed": false
   },
   "outputs": [],
   "source": [
    "def calculate_bearing_difference(merged_df):\n",
    "    \"\"\"\n",
    "    Calculates the difference between consecutive bearing values in a DataFrame.\n",
    "    \n",
    "    Parameters:\n",
    "        df (pd.DataFrame): A DataFrame containing a 'bearing' column.\n",
    "        \n",
    "    Returns:\n",
    "        pd.Series: A Series containing differences between consecutive bearings.\n",
    "    \"\"\"\n",
    "    if 'bearing' not in df.columns or df.empty:\n",
    "        return pd.Series([])\n",
    "    \n",
    "    df['bearing_diff'] = df['bearing'].diff().abs()\n",
    "    return df\n",
    "\n",
    "merged_df = calculate_bearing_difference(merged_df)\n"
   ]
  },
  {
   "cell_type": "markdown",
   "metadata": {},
   "source": [
    "## Plot std deviation"
   ]
  },
  {
   "cell_type": "markdown",
   "metadata": {},
   "source": [
    "### Filter for **Convex Hull BBOXes**"
   ]
  },
  {
   "cell_type": "code",
   "execution_count": 20,
   "metadata": {},
   "outputs": [
    {
     "name": "stdout",
     "output_type": "stream",
     "text": [
      "Cluster 0: {'min_lng': 22.3853133, 'max_lng': 22.3874133, 'min_lat': 37.5102916, 'max_lat': 37.5114683}\n",
      "Cluster 1: {'min_lng': 22.3841633, 'max_lng': 22.3843916, 'min_lat': 37.510425, 'max_lat': 37.5105433}\n",
      "Cluster 2: {'min_lng': 22.3848866, 'max_lng': 22.3851333, 'min_lat': 37.5107683, 'max_lat': 37.5109899}\n",
      "Cluster 3: {'min_lng': 22.3844933, 'max_lng': 22.3848033, 'min_lat': 37.510815, 'max_lat': 37.5110133}\n",
      "Cluster 4: {'min_lng': 22.3854, 'max_lng': 22.3854449, 'min_lat': 37.5114433, 'max_lat': 37.5117283}\n",
      "Cluster 5: {'min_lng': 22.3832566, 'max_lng': 22.3834216, 'min_lat': 37.5120583, 'max_lat': 37.512245}\n",
      "Cluster 6: {'min_lng': 22.3759916, 'max_lng': 22.3763466, 'min_lat': 37.512855, 'max_lat': 37.5131816}\n",
      "Cluster 7: {'min_lng': 22.3749533, 'max_lng': 22.3750599, 'min_lat': 37.509825, 'max_lat': 37.509945}\n",
      "Cluster 8: {'min_lng': 22.3840833, 'max_lng': 22.3842783, 'min_lat': 37.5138016, 'max_lat': 37.5138783}\n",
      "Cluster 9: {'min_lng': 22.372835, 'max_lng': 22.3731166, 'min_lat': 37.5289633, 'max_lat': 37.5291799}\n",
      "Cluster 10: {'min_lng': 22.3719916, 'max_lng': 22.3721733, 'min_lat': 37.52493, 'max_lat': 37.5250666}\n",
      "Cluster 11: {'min_lng': 22.3722233, 'max_lng': 22.3726783, 'min_lat': 37.52681, 'max_lat': 37.5273516}\n",
      "Cluster 12: {'min_lng': 22.3695883, 'max_lng': 22.3697833, 'min_lat': 37.5115, 'max_lat': 37.51166}\n",
      "Cluster 13: {'min_lng': 22.3745449, 'max_lng': 22.3747466, 'min_lat': 37.509585, 'max_lat': 37.5098233}\n",
      "Cluster 14: {'min_lng': 22.3673316, 'max_lng': 22.36759, 'min_lat': 37.5141383, 'max_lat': 37.5143233}\n",
      "Cluster 15: {'min_lng': 22.3735466, 'max_lng': 22.3736883, 'min_lat': 37.50836, 'max_lat': 37.5085399}\n",
      "Cluster 16: {'min_lng': 22.379535, 'max_lng': 22.3796, 'min_lat': 37.5213083, 'max_lat': 37.5213983}\n",
      "Cluster 17: {'min_lng': 22.3806366, 'max_lng': 22.3808183, 'min_lat': 37.5209833, 'max_lat': 37.5210983}\n",
      "Cluster 18: {'min_lng': 22.3732616, 'max_lng': 22.3737316, 'min_lat': 37.5111483, 'max_lat': 37.51154}\n",
      "Cluster 19: {'min_lng': 22.372555, 'max_lng': 22.3727066, 'min_lat': 37.521425, 'max_lat': 37.5216549}\n",
      "Cluster 20: {'min_lng': 22.3715183, 'max_lng': 22.3721316, 'min_lat': 37.5270233, 'max_lat': 37.5274349}\n",
      "Cluster 21: {'min_lng': 22.3720699, 'max_lng': 22.3725516, 'min_lat': 37.521895, 'max_lat': 37.5221616}\n",
      "Cluster 22: {'min_lng': 22.3731849, 'max_lng': 22.37339, 'min_lat': 37.5114183, 'max_lat': 37.5115433}\n",
      "Cluster 23: {'min_lng': 22.37289, 'max_lng': 22.3729916, 'min_lat': 37.51149, 'max_lat': 37.511555}\n",
      "Cluster 24: {'min_lng': 22.3709299, 'max_lng': 22.3710433, 'min_lat': 37.5186449, 'max_lat': 37.5186983}\n",
      "Cluster 25: {'min_lng': 22.3739116, 'max_lng': 22.37446, 'min_lat': 37.5130683, 'max_lat': 37.5134366}\n",
      "Cluster 26: {'min_lng': 22.3744883, 'max_lng': 22.37585, 'min_lat': 37.5127133, 'max_lat': 37.5133983}\n",
      "Cluster 27: {'min_lng': 22.369125, 'max_lng': 22.3693816, 'min_lat': 37.5153816, 'max_lat': 37.5157916}\n",
      "Cluster 28: {'min_lng': 22.3729466, 'max_lng': 22.3733466, 'min_lat': 37.5208, 'max_lat': 37.5209883}\n",
      "Cluster 29: {'min_lng': 22.3754416, 'max_lng': 22.3755366, 'min_lat': 37.5129616, 'max_lat': 37.51309}\n",
      "Cluster 30: {'min_lng': 22.3789333, 'max_lng': 22.3792183, 'min_lat': 37.5222066, 'max_lat': 37.5222899}\n",
      "Cluster 31: {'min_lng': 22.3721666, 'max_lng': 22.3723683, 'min_lat': 37.5261566, 'max_lat': 37.5264249}\n",
      "Cluster 32: {'min_lng': 22.3724633, 'max_lng': 22.3725316, 'min_lat': 37.5223083, 'max_lat': 37.5223533}\n",
      "Cluster 33: {'min_lng': 22.3697533, 'max_lng': 22.3699449, 'min_lat': 37.5192666, 'max_lat': 37.5194466}\n",
      "Cluster 34: {'min_lng': 22.3713949, 'max_lng': 22.3716216, 'min_lat': 37.5267716, 'max_lat': 37.526845}\n",
      "Cluster 35: {'min_lng': 22.3703516, 'max_lng': 22.3704949, 'min_lat': 37.5121266, 'max_lat': 37.5122316}\n",
      "Cluster 36: {'min_lng': 22.371305, 'max_lng': 22.371385, 'min_lat': 37.5125249, 'max_lat': 37.512655}\n",
      "Cluster 37: {'min_lng': 22.3720566, 'max_lng': 22.37217, 'min_lat': 37.5240233, 'max_lat': 37.5242083}\n",
      "Cluster 38: {'min_lng': 22.3728933, 'max_lng': 22.3730516, 'min_lat': 37.511175, 'max_lat': 37.5112699}\n",
      "Cluster 39: {'min_lng': 22.3763533, 'max_lng': 22.3765433, 'min_lat': 37.5128116, 'max_lat': 37.5129816}\n",
      "Cluster 40: {'min_lng': 22.3712583, 'max_lng': 22.3715249, 'min_lat': 37.5312116, 'max_lat': 37.5313683}\n",
      "Cluster 41: {'min_lng': 22.37789, 'max_lng': 22.3781666, 'min_lat': 37.5250533, 'max_lat': 37.5252999}\n",
      "Cluster 42: {'min_lng': 22.3707233, 'max_lng': 22.3710849, 'min_lat': 37.530565, 'max_lat': 37.53072}\n",
      "Cluster 43: {'min_lng': 22.3712416, 'max_lng': 22.3713666, 'min_lat': 37.5306583, 'max_lat': 37.5307449}\n",
      "Cluster 44: {'min_lng': 22.3822883, 'max_lng': 22.3824783, 'min_lat': 37.519085, 'max_lat': 37.5192216}\n",
      "Cluster 45: {'min_lng': 22.3815383, 'max_lng': 22.3817683, 'min_lat': 37.5182666, 'max_lat': 37.51846}\n",
      "Cluster 46: {'min_lng': 22.3792266, 'max_lng': 22.3797466, 'min_lat': 37.5100083, 'max_lat': 37.51049}\n",
      "Cluster 47: {'min_lng': 22.3781716, 'max_lng': 22.3783366, 'min_lat': 37.5115, 'max_lat': 37.511555}\n",
      "Cluster 48: {'min_lng': 22.379495, 'max_lng': 22.3796816, 'min_lat': 37.5106266, 'max_lat': 37.51087}\n",
      "Cluster 49: {'min_lng': 22.37901, 'max_lng': 22.37926, 'min_lat': 37.5095333, 'max_lat': 37.5098316}\n",
      "Cluster 50: {'min_lng': 22.3805999, 'max_lng': 22.3808816, 'min_lat': 37.51096, 'max_lat': 37.5110449}\n",
      "Cluster 51: {'min_lng': 22.381105, 'max_lng': 22.3812733, 'min_lat': 37.51169, 'max_lat': 37.5117383}\n",
      "Cluster 52: {'min_lng': 22.3840316, 'max_lng': 22.3842216, 'min_lat': 37.5147333, 'max_lat': 37.514995}\n",
      "Cluster 53: {'min_lng': 22.3879333, 'max_lng': 22.3886466, 'min_lat': 37.515015, 'max_lat': 37.515735}\n",
      "Cluster 54: {'min_lng': 22.3797633, 'max_lng': 22.3801566, 'min_lat': 37.5110583, 'max_lat': 37.5114033}\n",
      "Cluster 55: {'min_lng': 22.38037, 'max_lng': 22.3805866, 'min_lat': 37.5205566, 'max_lat': 37.5206416}\n",
      "Cluster 56: {'min_lng': 22.3729316, 'max_lng': 22.373, 'min_lat': 37.5283533, 'max_lat': 37.5285433}\n"
     ]
    }
   ],
   "source": [
    "for cluster, bbox in cluster_bboxes.items():\n",
    "    print(f\"Cluster {cluster}: {bbox}\")\n"
   ]
  },
  {
   "cell_type": "code",
   "execution_count": 21,
   "metadata": {},
   "outputs": [
    {
     "ename": "NameError",
     "evalue": "name 'last_value' is not defined",
     "output_type": "error",
     "traceback": [
      "\u001b[0;31m---------------------------------------------------------------------------\u001b[0m",
      "\u001b[0;31mNameError\u001b[0m                                 Traceback (most recent call last)",
      "Cell \u001b[0;32mIn[21], line 11\u001b[0m\n\u001b[1;32m      8\u001b[0m high_std_points \u001b[38;5;241m=\u001b[39m merged_df[merged_df[\u001b[38;5;124m'\u001b[39m\u001b[38;5;124mbearing_diff\u001b[39m\u001b[38;5;124m'\u001b[39m] \u001b[38;5;241m>\u001b[39m high_std_threshold]\n\u001b[1;32m     10\u001b[0m \u001b[38;5;66;03m# Extract BBOX (bounding box) coordinates from last_value\u001b[39;00m\n\u001b[0;32m---> 11\u001b[0m min_x, min_y, max_x, max_y \u001b[38;5;241m=\u001b[39m \u001b[43mlast_value\u001b[49m  \u001b[38;5;66;03m# Assuming last_value holds BBOX as [min_x, min_y, max_x, max_y]\u001b[39;00m\n",
      "\u001b[0;31mNameError\u001b[0m: name 'last_value' is not defined"
     ]
    }
   ],
   "source": [
    "# Calculate the standard deviation of 'bearing_diff'\n",
    "std_dev = merged_df['bearing_diff'].std()\n",
    "\n",
    "# Define a threshold for high standard deviation\n",
    "high_std_threshold = 1.5 * std_dev  # Adjust factor as needed\n",
    "\n",
    "# Identify high standard deviation values\n",
    "high_std_points = merged_df[merged_df['bearing_diff'] > high_std_threshold]\n",
    "\n",
    "# Extract BBOX (bounding box) coordinates from last_value\n",
    "min_x, min_y, max_x, max_y = last_value  # Assuming last_value holds BBOX as [min_x, min_y, max_x, max_y]\n",
    "\n",
    "\n"
   ]
  },
  {
   "cell_type": "markdown",
   "metadata": {},
   "source": [
    "### 1️⃣ Hexbin Plot (Density Heatmap)"
   ]
  },
  {
   "cell_type": "code",
   "execution_count": null,
   "metadata": {
    "ExecuteTime": {
     "end_time": "2025-02-01T18:48:30.279920Z",
     "start_time": "2025-02-01T18:48:30.275006Z"
    },
    "collapsed": false
   },
   "outputs": [],
   "source": [
    "plt.figure(figsize=(8, 5))\n",
    "plt.hexbin(merged_df['bearing_diff'], merged_df['bearing'], gridsize=30, cmap='Blues', mincnt=1)\n",
    "\n",
    "# Highlight high standard deviation points\n",
    "plt.scatter(high_std_points['bearing_diff'], high_std_points['bearing'], color='red', label='High Std Dev', alpha=0.8)\n",
    "\n",
    "# Highlight the standard deviation as a vertical line\n",
    "plt.axvline(x=std_dev, color='green', linestyle='--', label=f'Standard Deviation ({std_dev:.2f})')\n",
    "\n",
    "# Bounding Box (if applicable)\n",
    "plt.axvspan(min_x, max_x, color='gray', alpha=0.2, label='Bounding Box')\n",
    "\n",
    "# Labels and title\n",
    "plt.xlabel('Bearing Difference')\n",
    "plt.ylabel('Bearing')\n",
    "plt.title('Hexbin Plot: High Std Dev Bearings vs Bearing Difference')\n",
    "plt.colorbar(label='Density')\n",
    "plt.legend()\n",
    "plt.grid(True)\n",
    "\n",
    "# Save the plot\n",
    "plt.savefig(PLOT_FOLDER_PATH, bbox_inches='tight')\n",
    "print(f\"Plot saved to {PLOT_FOLDER_PATH}\")\n",
    "\n",
    "plt.show()\n"
   ]
  },
  {
   "cell_type": "markdown",
   "metadata": {},
   "source": [
    "### 2️⃣ Violin Plot (Distribution)"
   ]
  },
  {
   "cell_type": "code",
   "execution_count": null,
   "metadata": {
    "ExecuteTime": {
     "end_time": "2025-02-01T18:48:30.464254Z",
     "start_time": "2025-02-01T18:48:30.459088Z"
    },
    "collapsed": false
   },
   "outputs": [],
   "source": [
    "import seaborn as sns\n",
    "\n",
    "plt.figure(figsize=(8, 5))\n",
    "sns.violinplot(x=merged_df['bearing_diff'], inner=\"quartile\", color=\"lightblue\")\n",
    "\n",
    "# Mark the standard deviation\n",
    "plt.axvline(x=std_dev, color='red', linestyle='--', label=f'Standard Deviation ({std_dev:.2f})')\n",
    "\n",
    "plt.xlabel('Bearing Difference')\n",
    "plt.title('Violin Plot: Distribution of Bearing Difference')\n",
    "plt.legend()\n",
    "\n",
    "# Save the plot\n",
    "plt.savefig(PLOT_FOLDER_PATH, bbox_inches='tight')\n",
    "print(f\"Plot saved to {PLOT_FOLDER_PATH}\")\n",
    "\n",
    "plt.show()\n"
   ]
  },
  {
   "cell_type": "markdown",
   "metadata": {
    "ExecuteTime": {
     "end_time": "2025-02-01T18:48:30.648854Z",
     "start_time": "2025-02-01T18:48:30.643996Z"
    },
    "collapsed": false
   },
   "source": [
    "### 3️⃣ Boxplot (Detect Outliers)"
   ]
  },
  {
   "cell_type": "code",
   "execution_count": null,
   "metadata": {
    "collapsed": false
   },
   "outputs": [],
   "source": [
    "plt.figure(figsize=(6, 5))\n",
    "sns.boxplot(x=merged_df['bearing_diff'], color='lightblue')\n",
    "\n",
    "# Mark the standard deviation\n",
    "plt.axvline(x=std_dev, color='red', linestyle='--', label=f'Standard Deviation ({std_dev:.2f})')\n",
    "\n",
    "plt.xlabel('Bearing Difference')\n",
    "plt.title('Boxplot: Bearing Difference Outliers')\n",
    "plt.legend()\n",
    "\n",
    "# Save the plot\n",
    "plt.savefig(PLOT_FOLDER_PATH, bbox_inches='tight')\n",
    "print(f\"Plot saved to {PLOT_FOLDER_PATH}\")\n",
    "\n",
    "plt.show()\n"
   ]
  },
  {
   "cell_type": "markdown",
   "metadata": {},
   "source": [
    "### 4️⃣ KDE Plot (Smooth Distribution Curve)\n",
    "\n"
   ]
  },
  {
   "cell_type": "code",
   "execution_count": null,
   "metadata": {
    "collapsed": false
   },
   "outputs": [],
   "source": [
    "plt.figure(figsize=(8, 5))\n",
    "sns.kdeplot(merged_df['bearing_diff'], fill=True, color=\"blue\", alpha=0.3)\n",
    "\n",
    "# Mark standard deviation\n",
    "plt.axvline(x=std_dev, color='red', linestyle='--', label=f'Standard Deviation ({std_dev:.2f})')\n",
    "\n",
    "plt.xlabel('Bearing Difference')\n",
    "plt.title('KDE Plot: Bearing Difference Distribution')\n",
    "plt.legend()\n",
    "\n",
    "# Save the plot\n",
    "plt.savefig(PLOT_FOLDER_PATH, bbox_inches='tight')\n",
    "print(f\"Plot saved to {PLOT_FOLDER_PATH}\")\n",
    "\n",
    "plt.show()\n"
   ]
  },
  {
   "cell_type": "markdown",
   "metadata": {},
   "source": [
    "# Save DF to csv"
   ]
  },
  {
   "cell_type": "code",
   "execution_count": null,
   "metadata": {},
   "outputs": [],
   "source": [
    "all_vehicles_data_path = \"../../DataSets/API_Responses/Vehicle_Data/all_vehicle_responses.csv\"\n",
    "merged_df.to_csv(all_vehicles_data_path, index=False)\n",
    "print(Fore.GREEN + f\"DataFrame stored to {all_vehicles_data_path}\" + Style.RESET_ALL)"
   ]
  }
 ],
 "metadata": {
  "kernelspec": {
   "display_name": "ArcGIS",
   "language": "python",
   "name": "python3"
  },
  "language_info": {
   "codemirror_mode": {
    "name": "ipython",
    "version": 3
   },
   "file_extension": ".py",
   "mimetype": "text/x-python",
   "name": "python",
   "nbconvert_exporter": "python",
   "pygments_lexer": "ipython3",
   "version": "3.9.19"
  }
 },
 "nbformat": 4,
 "nbformat_minor": 0
}
