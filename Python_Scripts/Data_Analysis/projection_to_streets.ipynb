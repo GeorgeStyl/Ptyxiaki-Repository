{
 "cells": [
  {
   "cell_type": "code",
   "execution_count": null,
   "metadata": {},
   "outputs": [],
   "source": [
    "\n"
   ]
  },
  {
   "cell_type": "markdown",
   "metadata": {},
   "source": [
    "## Imports"
   ]
  },
  {
   "cell_type": "code",
   "execution_count": 1,
   "metadata": {},
   "outputs": [],
   "source": [
    "import pandas as pd\n",
    "import ast\n",
    "import numpy as np\n",
    "import matplotlib.pyplot as plt\n",
    "from shapely.geometry import Point"
   ]
  },
  {
   "cell_type": "markdown",
   "metadata": {},
   "source": [
    "## Init **Roads** DF"
   ]
  },
  {
   "cell_type": "code",
   "execution_count": 2,
   "metadata": {},
   "outputs": [
    {
     "name": "stdout",
     "output_type": "stream",
     "text": [
      "       lat_start  lon_start    lat_end    lon_end    lat_mid    lon_mid  \\\n",
      "0      37.516320  22.367093  37.516301  22.367194  37.516301  22.367143   \n",
      "1      37.516301  22.367194  37.516287  22.367242  37.516287  22.367218   \n",
      "2      37.516287  22.367242  37.516048  22.367889  37.516048  22.367565   \n",
      "3      37.516048  22.367889  37.516021  22.367966  37.516021  22.367928   \n",
      "4      37.516021  22.367966  37.515900  22.368320  37.515900  22.368143   \n",
      "...          ...        ...        ...        ...        ...        ...   \n",
      "34391  37.510063  22.367360  37.510113  22.367401  37.510063  22.367380   \n",
      "34392  37.510113  22.367401  37.510173  22.367437  37.510113  22.367419   \n",
      "34393  37.510173  22.367437  37.510231  22.367462  37.510173  22.367450   \n",
      "34394  37.510231  22.367462  37.510295  22.367479  37.510231  22.367471   \n",
      "34395  37.510204  22.373743  37.510549  22.373441  37.510204  22.373592   \n",
      "\n",
      "                   name      highway  original_row_id  \n",
      "0      11ου Συντάγματος  residential                0  \n",
      "1      11ου Συντάγματος  residential                0  \n",
      "2      11ου Συντάγματος  residential                0  \n",
      "3      11ου Συντάγματος  residential                0  \n",
      "4      11ου Συντάγματος  residential                0  \n",
      "...                 ...          ...              ...  \n",
      "34391             Χρονά     tertiary             3038  \n",
      "34392             Χρονά     tertiary             3038  \n",
      "34393             Χρονά     tertiary             3038  \n",
      "34394             Χρονά     tertiary             3038  \n",
      "34395     Χρυσ. Σμύρνης   pedestrian             3039  \n",
      "\n",
      "[34396 rows x 9 columns]\n"
     ]
    }
   ],
   "source": [
    "data = [\n",
    "    ['11ου Συντάγματος', 'residential', '[{\"lat\": 37.5163202, \"lon\": 22.3670926}, {\"lat\": 37.5163008, \"lon\": 22.3671941}, {\"lat\": 37.5162872, \"lon\": 22.3672417}, {\"lat\": 37.5160483, \"lon\": 22.3678892}, {\"lat\": 37.5160213, \"lon\": 22.3679662}, {\"lat\": 37.5159004, \"lon\": 22.3683196}, {\"lat\": 37.5158288, \"lon\": 22.368505}, {\"lat\": 37.5157759, \"lon\": 22.3686216}, {\"lat\": 37.5157207, \"lon\": 22.3687294}, {\"lat\": 37.5156562, \"lon\": 22.3688413}, {\"lat\": 37.5155724, \"lon\": 22.3689578}, {\"lat\": 37.5154084, \"lon\": 22.3691304}]'],\n",
    "    ['11ου Συντάγματος', 'residential', '[{\"lat\": 37.516339, \"lon\": 22.366991}, {\"lat\": 37.5163202, \"lon\": 22.3670926}]']\n",
    "]\n",
    "\n",
    "\n",
    "filename_omp_streets = \"../../DataSets/API_Responses/OSM/OSM_roads.csv\"\n",
    "\n",
    "\n",
    "# Convert data to DataFrame\n",
    "#df = pd.DataFrame(data, columns=[\"name\", \"highway\", \"coordinates\"])\n",
    "\n",
    "df_streets = pd.read_csv(filename_omp_streets, )\n",
    "\n",
    "# List to store the new rows\n",
    "new_rows = []\n",
    "\n",
    "# Process each row in the DataFrame\n",
    "for idx, row in df_streets.iterrows():\n",
    "    # Parse the coordinates column\n",
    "    coordinates = ast.literal_eval(row['coordinates'])  # Convert string of list to actual list of dicts\n",
    "    \n",
    "    # Iterate over the consecutive coordinate pairs (lat-start, lon-start) and (lat-end, lon-end)\n",
    "    for i in range(len(coordinates) - 1):\n",
    "        start = coordinates[i]\n",
    "        end = coordinates[i + 1]\n",
    "        \n",
    "        # Define the required values for the new DataFrame\n",
    "        lat_start = start['lat']\n",
    "        lon_start = start['lon']\n",
    "        lat_end = end['lat']\n",
    "        lon_end = end['lon']\n",
    "        \n",
    "        # Calculate the minimum latitude and midpoint longitude\n",
    "        lat_min = min(lat_start, lat_end)\n",
    "        lon_mid = (lon_start + lon_end) / 2\n",
    "        \n",
    "        # Append the new row with the calculated values and original information\n",
    "        new_rows.append({\n",
    "            'lat_start': lat_start,\n",
    "            'lon_start': lon_start,\n",
    "            'lat_end': lat_end,\n",
    "            'lon_end': lon_end,\n",
    "            'lat_mid': lat_min,\n",
    "            'lon_mid': lon_mid,\n",
    "            'name': row['name'],\n",
    "            'highway': row['highway'],\n",
    "            'original_row_id': idx  # The index can serve as the original row id\n",
    "        })\n",
    "\n",
    "# Create a new DataFrame from the list of new rows\n",
    "df_roads_segments = pd.DataFrame(new_rows)\n",
    "\n",
    "# Display the new DataFrame\n",
    "print(df_roads_segments)\n"
   ]
  },
  {
   "cell_type": "markdown",
   "metadata": {},
   "source": [
    "## Define **Haversine Disatnce**"
   ]
  },
  {
   "cell_type": "code",
   "execution_count": 3,
   "metadata": {},
   "outputs": [
    {
     "name": "stdout",
     "output_type": "stream",
     "text": [
      "[0.02257018 0.0733741 ]\n"
     ]
    }
   ],
   "source": [
    "def haversine_distance(x, y):\n",
    "    # Convert degrees to radians\n",
    "    x = np.radians(x)\n",
    "    y = np.radians(y)\n",
    "    \n",
    "    # Compute differences in latitudes and longitudes\n",
    "    dlat = y[0] - x[0]\n",
    "    dlon = y[1] - x[1]\n",
    "    \n",
    "    # Haversine formula\n",
    "    a = np.sin(dlat / 2)**2 + np.cos(x[0]) * np.cos(y[0]) * np.sin(dlon / 2)**2\n",
    "    c = 2 * np.arcsin(np.sqrt(a))\n",
    "    \n",
    "    # Radius of Earth in kilometers\n",
    "    r = 6371\n",
    "    \n",
    "    return r * c\n",
    "\n",
    "\n",
    "# Example usage\n",
    "coords_start = np.array([[37.5163202, 22.3670926], [37.5163008, 22.3671941]])  # (lat, lon) for start\n",
    "coords_end = np.array([[37.5162872, 22.3672417], [37.5160483, 22.3678892]])    # (lat, lon) for end\n",
    "\n",
    "distances = haversine_distance(coords_start, coords_end)\n",
    "print(distances)\n"
   ]
  },
  {
   "cell_type": "markdown",
   "metadata": {},
   "source": [
    "## Init **DataSets DF**"
   ]
  },
  {
   "cell_type": "code",
   "execution_count": 17,
   "metadata": {},
   "outputs": [
    {
     "name": "stdout",
     "output_type": "stream",
     "text": [
      "0        [(38.0344583, 23.7481766)]\n",
      "1        [(38.0345983, 23.7481433)]\n",
      "2        [(38.0346333, 23.7481316)]\n",
      "3        [(38.0346666, 23.7481633)]\n",
      "4        [(38.0347133, 23.7481216)]\n",
      "                    ...            \n",
      "54493      [(37.53146, 22.3697683)]\n",
      "54494     [(37.531275, 22.3694733)]\n",
      "54495    [(37.5311216, 22.3691949)]\n",
      "54496    [(37.5311483, 22.3689666)]\n",
      "54497    [(37.5312433, 22.3687049)]\n",
      "Name: coordinates, Length: 54498, dtype: object\n"
     ]
    }
   ],
   "source": [
    "import pandas as pd\n",
    "import ast\n",
    "\n",
    "# Load vehicle data\n",
    "filename_coords = \"../../DataSets/API_Responses/Vehicle_Data/all_vehicle_responses.csv\"\n",
    "df_coords = pd.read_csv(filename_coords)\n",
    "\n",
    "\n",
    "df_coords[\"coordinates\"] = df_coords.apply(lambda row: [(row[\"lat\"], row[\"lng\"])], axis=1)\n",
    "print(df_coords[\"coordinates\"])\n",
    "\n",
    "\n"
   ]
  },
  {
   "cell_type": "markdown",
   "metadata": {},
   "source": [
    "## **NearestNeighbors**"
   ]
  },
  {
   "cell_type": "code",
   "execution_count": 21,
   "metadata": {},
   "outputs": [
    {
     "name": "stdout",
     "output_type": "stream",
     "text": [
      "Closest point index: [[ 6849  6768  6848  6850  6854  6855  6767  6769  6766  6856  6851  6765\n",
      "   6770  6857  6852  6771  6764  6858  6853  6772  6859  6773  6860  6774\n",
      "   6861  6775  6776  6777  6778  6862  6779  6780  6781  6782  6783  6784\n",
      "   6785  6786  6787 21853  6788 21852  6789 21851  6792  6793  6790  6791\n",
      "   6794  6795]]\n",
      "Distance (in meters) to closest point: [[ 0.11226514  0.94036491  0.94413688  1.07020172  1.26339783  1.29166383\n",
      "   1.31871887  1.32710952  1.60944126  1.74874737  1.87469111  2.0269679\n",
      "   2.18247387  2.65325758  2.69469493  3.22287596  3.52265754  3.61603543\n",
      "   4.07854649  4.16525589  4.67267553  5.29932684  5.72012485  6.49440983\n",
      "   7.90136116  7.9428927   9.00580398  9.93344716 10.70156064 11.13414306\n",
      "  11.13477197 11.45358935 12.00534336 12.65783095 13.18394798 13.71725591\n",
      "  14.1889502  14.51214068 14.87561791 14.90034235 14.92973248 15.08551753\n",
      "  15.38677538 15.49132226 15.67811212 15.73036133 15.82594619 15.87156625\n",
      "  15.92643522 16.28697025]] 0\n"
     ]
    }
   ],
   "source": [
    "import numpy as np\n",
    "from sklearn.neighbors import NearestNeighbors\n",
    "\n",
    "\n",
    "# Create NearestNeighbors model with BallTree for indexing and custom metric\n",
    "neighbors = NearestNeighbors(n_neighbors=50, metric=haversine_distance, algorithm='ball_tree')\n",
    "neighbors.fit(df_roads_segments[['lat_mid', 'lon_mid']].values)\n",
    "\n",
    "\n",
    "# Example query point\n",
    "query_point = np.array([37.5311483, 22.3689666])\n",
    "\n",
    "# Find the closest point to the query point\n",
    "# dist, ind = neighbors.kneighbors(query_point)\n",
    "dist, ind = neighbors.kneighbors(query_point.reshape(1, -1))\n",
    "\n",
    "\n",
    "print(\"Closest point index:\", ind)\n",
    "print(\"Distance (in meters) to closest point:\", dist * 111,000) #! 1 degree (coordinate) == 11,000 meters\n",
    "\n"
   ]
  },
  {
   "cell_type": "code",
   "execution_count": 6,
   "metadata": {},
   "outputs": [
    {
     "name": "stdout",
     "output_type": "stream",
     "text": [
      "0        [(38.0344583, 23.7481766)]\n",
      "1        [(38.0345983, 23.7481433)]\n",
      "2        [(38.0346333, 23.7481316)]\n",
      "3        [(38.0346666, 23.7481633)]\n",
      "4        [(38.0347133, 23.7481216)]\n",
      "                    ...            \n",
      "54493      [(37.53146, 22.3697683)]\n",
      "54494     [(37.531275, 22.3694733)]\n",
      "54495    [(37.5311216, 22.3691949)]\n",
      "54496    [(37.5311483, 22.3689666)]\n",
      "54497    [(37.5312433, 22.3687049)]\n",
      "Name: coordinates, Length: 54498, dtype: object\n",
      "0      [(37.5153299, 22.3878963), (37.5152124, 22.387...\n",
      "1      [(37.5157459, 22.3877368), (37.5156284, 22.387...\n",
      "2      [(37.5109022, 22.3694617), (37.511067, 22.3695...\n",
      "3      [(37.5106904, 22.3636614), (37.5105267, 22.363...\n",
      "4      [(37.5123545, 22.3841353), (37.5121766, 22.385...\n",
      "                             ...                        \n",
      "300    [(37.5021164, 22.4977753), (37.5021997, 22.497...\n",
      "301    [(37.5062436, 22.50127), (37.5064016, 22.50129...\n",
      "302    [(37.5272306, 22.3712629), (37.5273966, 22.372...\n",
      "303    [(37.5299764, 22.375622), (37.5298755, 22.3756...\n",
      "304    [(37.5102409, 22.3746427), (37.5102366, 22.374...\n",
      "Name: coordinates, Length: 305, dtype: object\n"
     ]
    }
   ],
   "source": [
    "import pandas as pd\n",
    "import ast\n",
    "\n",
    "# Load vehicle data\n",
    "filename_coords = \"../../DataSets/API_Responses/Vehicle_Data/all_vehicle_responses.csv\"\n",
    "df_coords = pd.read_csv(filename_coords)\n",
    "\n",
    "\n",
    "df_coords[\"coordinates\"] = df_coords.apply(lambda row: [(row[\"lat\"], row[\"lng\"])], axis=1)\n",
    "print(df_coords[\"coordinates\"])\n",
    "\n",
    "\n",
    "# Load building data\n",
    "filename_buildings = \"../../DataSets/API_Responses/OSM/OSM_houses.csv\"\n",
    "df_buildings = pd.read_csv(filename_buildings)\n",
    "\n",
    "# Convert building coordinates from string to a list of (lat, lon) tuples\n",
    "df_buildings[\"coordinates\"] = df_buildings[\"coordinates\"].apply(\n",
    "    lambda x: [(point[\"lat\"], point[\"lon\"]) for point in ast.literal_eval(x)]\n",
    ")\n",
    "print(df_buildings[\"coordinates\"])\n"
   ]
  },
  {
   "cell_type": "markdown",
   "metadata": {},
   "source": [
    "## **Project Points to Segments**"
   ]
  },
  {
   "cell_type": "code",
   "execution_count": 7,
   "metadata": {},
   "outputs": [
    {
     "name": "stdout",
     "output_type": "stream",
     "text": [
      "Projected X: [3.  6.2 2. ]\n",
      "Projected Y: [4.  4.6 8. ]\n"
     ]
    }
   ],
   "source": [
    "import numpy as np\n",
    "\n",
    "\n",
    "\n",
    "\n",
    "def project_points_to_segments(px, py, x1, y1, x2, y2):\n",
    "    \"\"\"\n",
    "    Projects multiple points (px, py) onto multiple line segments defined by (x1, y1) -> (x2, y2).\n",
    "    If a point falls outside the vertical range of its segment, it remains unchanged.\n",
    "    \n",
    "    Inputs:\n",
    "        - px, py: Arrays of shape (N,) representing point coordinates\n",
    "        - x1, y1, x2, y2: Arrays of shape (N,) representing segment endpoints\n",
    "    \n",
    "    Output:\n",
    "        - proj_x, proj_y: Arrays of shape (N,) with projected points\n",
    "    \"\"\"\n",
    "    # Compute segment vectors and point vectors\n",
    "    vx = x2 - x1  # Segment direction x-component\n",
    "    vy = y2 - y1  # Segment direction y-component\n",
    "    wx = px - x1  # Vector from segment start to point x-component\n",
    "    wy = py - y1  # Vector from segment start to point y-component\n",
    "\n",
    "    # Compute dot products\n",
    "    dot_vv = vx * vx + vy * vy  # Dot product of v with itself\n",
    "    dot_wv = wx * vx + wy * vy  # Dot product of w with v\n",
    "\n",
    "    # Avoid division by zero (if the segment is a single point)\n",
    "    mask_zero_length = dot_vv == 0\n",
    "    t = np.zeros_like(dot_wv, dtype=np.float64)  # Explicitly specify float type for 't'\n",
    "    np.divide(dot_wv, dot_vv, out=t, where=~mask_zero_length)  # Perform division\n",
    "\n",
    "\n",
    "    # Clamp t between 0 and 1 to stay within the segment\n",
    "    t = np.clip(t, 0, 1)\n",
    "\n",
    "    # Compute projected points\n",
    "    proj_x = x1 + t * vx\n",
    "    proj_y = y1 + t * vy\n",
    "\n",
    "    # If a point is outside the vertical range of its segment, leave it unchanged\n",
    "    mask_outside_vertical = (py < np.minimum(y1, y2)) | (py > np.maximum(y1, y2))\n",
    "    proj_x = np.where(mask_outside_vertical, px, proj_x)\n",
    "    proj_y = np.where(mask_outside_vertical, py, proj_y)\n",
    "\n",
    "    return proj_x, proj_y\n",
    "\n",
    "# Example Usage with Batched Inputs\n",
    "px = np.array([3, 6, 2])  # Points to project\n",
    "py = np.array([4, 5, 8])\n",
    "x1 = np.array([1, 5, 0])  # Segment start points\n",
    "y1 = np.array([2, 4, 1])\n",
    "x2 = np.array([5, 7, 3])  # Segment end points\n",
    "y2 = np.array([6, 5, 4])\n",
    "\n",
    "proj_x, proj_y = project_points_to_segments(px, py, x1, y1, x2, y2)\n",
    "print(\"Projected X:\", proj_x)\n",
    "print(\"Projected Y:\", proj_y)\n"
   ]
  },
  {
   "cell_type": "code",
   "execution_count": 8,
   "metadata": {},
   "outputs": [
    {
     "name": "stdout",
     "output_type": "stream",
     "text": [
      "Projected Latitudes: [37.52       37.6        37.80006828]\n",
      "Projected Longitudes: [22.37       22.4        22.59989064]\n"
     ]
    }
   ],
   "source": [
    "import numpy as np\n",
    "\n",
    "def latlon_to_cartesian(lat, lon):\n",
    "    \"\"\"Converts lat-long to 3D Cartesian coordinates on a unit sphere.\"\"\"\n",
    "    lat, lon = np.radians(lat), np.radians(lon)\n",
    "    x = np.cos(lat) * np.cos(lon)\n",
    "    y = np.cos(lat) * np.sin(lon)\n",
    "    z = np.sin(lat)\n",
    "    return np.stack([x, y, z], axis=-1)  # Shape (N, 3)\n",
    "\n",
    "def cartesian_to_latlon(cart):\n",
    "    \"\"\"Converts 3D Cartesian coordinates back to latitude and longitude.\"\"\"\n",
    "    x, y, z = cart[..., 0], cart[..., 1], cart[..., 2]\n",
    "    lat = np.arcsin(z)  # Inverse sine for latitude\n",
    "    lon = np.arctan2(y, x)  # Arctan2 for longitude\n",
    "    return np.degrees(lat), np.degrees(lon)\n",
    "\n",
    "def project_geodesic_points(px, py, x1, y1, x2, y2):\n",
    "    \"\"\"\n",
    "    Projects lat-long points (px, py) onto geodesic segments (x1, y1) to (x2, y2).\n",
    "    Leaves the point unchanged if it's outside the segment range.\n",
    "\n",
    "    Inputs:\n",
    "        - px, py: Arrays of shape (N,) with latitude and longitude of points to project.\n",
    "        - x1, y1, x2, y2: Arrays of shape (N,) defining segment endpoints in lat-long.\n",
    "\n",
    "    Returns:\n",
    "        - proj_lat, proj_lon: Arrays of shape (N,) with projected coordinates.\n",
    "    \"\"\"\n",
    "    \n",
    "    # Convert lat-lon to Cartesian 3D coordinates\n",
    "    P = latlon_to_cartesian(px, py)  # Shape (N, 3)\n",
    "    A = latlon_to_cartesian(x1, y1)\n",
    "    B = latlon_to_cartesian(x2, y2)\n",
    "\n",
    "    # Compute the great-circle normal (cross product of A and B)\n",
    "    N = np.cross(A, B)  # Shape (N, 3)\n",
    "    N /= np.linalg.norm(N, axis=-1, keepdims=True)  # Normalize\n",
    "\n",
    "    # Compute projection of P onto the great-circle plane\n",
    "    P_proj = P - np.sum(P * N, axis=-1, keepdims=True) * N\n",
    "    P_proj /= np.linalg.norm(P_proj, axis=-1, keepdims=True)  # Normalize to stay on unit sphere\n",
    "\n",
    "    # Convert projected Cartesian points back to lat-lon\n",
    "    proj_lat, proj_lon = cartesian_to_latlon(P_proj)\n",
    "\n",
    "    # Check if projected points are within segment bounds using angular distance\n",
    "    dot_AB = np.sum(A * B, axis=-1)  # Cosine of angle between A and B\n",
    "    dot_AP = np.sum(A * P_proj, axis=-1)  # Cosine of angle between A and projected point\n",
    "    dot_BP = np.sum(B * P_proj, axis=-1)  # Cosine of angle between B and projected point\n",
    "\n",
    "    # If the projection falls outside the segment, snap to the nearest endpoint\n",
    "    mask_before_A = dot_AP < dot_AB  # If P_proj is before A\n",
    "    mask_after_B = dot_BP < dot_AB   # If P_proj is after B\n",
    "\n",
    "    proj_lat = np.where(mask_before_A, x1, proj_lat)\n",
    "    proj_lon = np.where(mask_before_A, y1, proj_lon)\n",
    "    proj_lat = np.where(mask_after_B, x2, proj_lat)\n",
    "    proj_lon = np.where(mask_after_B, y2, proj_lon)\n",
    "\n",
    "    return proj_lat, proj_lon\n",
    "\n",
    "\n",
    "\n",
    "# Example Usage with Batched Inputs\n",
    "px = np.array([37.5, 38.0, 37.8])  # Points to project\n",
    "py = np.array([22.3, 22.5, 22.6])\n",
    "x1 = np.array([37.516, 37.4, 37.7])  # Segment start points\n",
    "y1 = np.array([22.367, 22.2, 22.5])\n",
    "x2 = np.array([37.520, 37.6, 37.9])  # Segment end points\n",
    "y2 = np.array([22.370, 22.4, 22.7])\n",
    "\n",
    "proj_lat, proj_lon = project_geodesic_points(px, py, x1, y1, x2, y2)\n",
    "\n",
    "print(\"Projected Latitudes:\", proj_lat)\n",
    "print(\"Projected Longitudes:\", proj_lon)\n"
   ]
  }
 ],
 "metadata": {
  "kernelspec": {
   "display_name": "ArcGIS",
   "language": "python",
   "name": "python3"
  },
  "language_info": {
   "codemirror_mode": {
    "name": "ipython",
    "version": 3
   },
   "file_extension": ".py",
   "mimetype": "text/x-python",
   "name": "python",
   "nbconvert_exporter": "python",
   "pygments_lexer": "ipython3",
   "version": "3.9.19"
  }
 },
 "nbformat": 4,
 "nbformat_minor": 2
}
