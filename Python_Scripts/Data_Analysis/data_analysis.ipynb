{
 "cells": [
  {
   "cell_type": "markdown",
   "metadata": {},
   "source": [
    "<!-- Initialize **API** **managers** -->"
   ]
  },
  {
   "cell_type": "code",
   "execution_count": null,
   "metadata": {},
   "outputs": [],
   "source": [
    "import os\n",
    "import json\n",
    "import pandas as pd\n",
    "from Powerfleet_APIs_Management import PowerFleetAPIsManager as ApiManager\n",
    "from colorama import Fore, Style\n",
    "import sys  # For printing caught exceptions\n",
    "import re\n",
    "from datetime import datetime\n",
    "\n",
    "print(Fore.YELLOW + f\"MAIN CWD={os.getcwd()}\")\n",
    "print(f\"MAIN, LISTDIR={os.listdir()}\" + Style.RESET_ALL)\n",
    "\n",
    "# Define the ApiParameterExtractor class\n",
    "class ApiParameterExtractor:\n",
    "    def __init__(self, json_file):\n",
    "        with open(json_file, 'r') as file:\n",
    "            self.parameters = json.load(file)\n",
    "\n",
    "    def extract_parameters(self, api_type):\n",
    "        # Normalize API type to lowercase\n",
    "        api_type = api_type.lower()\n",
    "        \n",
    "        # Validate API type\n",
    "        if api_type not in self.parameters:\n",
    "            raise ValueError(f\"Invalid API type: {api_type}. Valid types are 'live_api' or 'snapshot_api'.\")\n",
    "        \n",
    "        # Return the corresponding dictionary for the given API type\n",
    "        return self.parameters[api_type]\n",
    "\n",
    "# Load parameters from the JSON file\n",
    "extractor = ApiParameterExtractor(\"PARAMETERS.json\")\n",
    "\n",
    "# Extract parameters for live_api and snapshot_api\n",
    "live_api_params = extractor.extract_parameters(\"live_api\")\n",
    "snapshot_api_params = extractor.extract_parameters(\"snapshot_api\")\n",
    "\n",
    "# Pass the extracted parameters to PowerFleetAPIsManager\n",
    "live_api_manager = ApiManager(live_api_params)\n",
    "snapshot_api_manager = ApiManager(snapshot_api_params)\n",
    "\n",
    "# Determine API type\n",
    "print(\"Live API Check:\")\n",
    "live_api_manager.get_live_data()\n",
    "\n",
    "print(\"\\nSnapshot API Check:\")\n",
    "# Extract the parameters from snapshot_api_params\n",
    "vehicleId = snapshot_api_params[\"vehicleId\"]\n",
    "startDate = snapshot_api_params[\"startDate\"]\n",
    "endDate = snapshot_api_params[\"endDate\"]\n",
    "\n",
    "# Pass the extracted parameters to the method\n",
    "snapshot_api_manager.get_snapshot_data(vehicleId, startDate, endDate)\n"
   ]
  },
  {
   "cell_type": "markdown",
   "metadata": {},
   "source": [
    "Convert **JSON** to **CSV** so that **pandas** be able to use it\n"
   ]
  },
  {
   "cell_type": "code",
   "execution_count": null,
   "metadata": {},
   "outputs": [],
   "source": []
  },
  {
   "cell_type": "markdown",
   "metadata": {},
   "source": [
    "Visualize data **dispersion**"
   ]
  },
  {
   "cell_type": "code",
   "execution_count": null,
   "metadata": {},
   "outputs": [],
   "source": []
  }
 ],
 "metadata": {
  "kernelspec": {
   "display_name": "ArcGIS",
   "language": "python",
   "name": "python3"
  },
  "language_info": {
   "codemirror_mode": {
    "name": "ipython",
    "version": 3
   },
   "file_extension": ".py",
   "mimetype": "text/x-python",
   "name": "python",
   "nbconvert_exporter": "python",
   "pygments_lexer": "ipython3",
   "version": "3.9.19"
  }
 },
 "nbformat": 4,
 "nbformat_minor": 2
}
