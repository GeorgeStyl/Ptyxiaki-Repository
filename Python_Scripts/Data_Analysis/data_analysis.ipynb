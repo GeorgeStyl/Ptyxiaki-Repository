{
 "cells": [
  {
   "cell_type": "code",
   "execution_count": 1,
   "metadata": {},
   "outputs": [
    {
     "name": "stdout",
     "output_type": "stream",
     "text": [
      "/home/georger/WorkDocuments/Sxoli/Ptyxiaki/Ptyxiaki-Repository/Python_Scripts/Data_Analysis\n",
      "['Powerfleet_API_Management.py', 'JSON_response.json', '__pycache__', 'data_analysis.ipynb', 'response_data_set.csv', 'Powerfleet_API_CredentialsI.txt']\n"
     ]
    }
   ],
   "source": [
    "import os\n",
    "import pandas as pd\n",
    "from colorama import Fore, Back, Style\n",
    "\n",
    "print(f\"{os.getcwd()}\")\n",
    "print(f\"{os.listdir()}\")"
   ]
  },
  {
   "cell_type": "markdown",
   "metadata": {},
   "source": [
    "Convert **JSON** to **CSV** so that **pandas** be able to use it\n"
   ]
  },
  {
   "cell_type": "code",
   "execution_count": 2,
   "metadata": {},
   "outputs": [
    {
     "name": "stdout",
     "output_type": "stream",
     "text": [
      "/home/georger/WorkDocuments/Sxoli/Ptyxiaki/Ptyxiaki-Repository/Python_Scripts/Data_Analysis\n",
      "os.getcwd()='/home/georger/WorkDocuments/Sxoli/Ptyxiaki/Ptyxiaki-Repository/Python_Scripts/Data_Analysis'\n",
      "['Powerfleet_API_Management.py', 'JSON_response.json', '__pycache__', 'data_analysis.ipynb', 'response_data_set.csv', 'Powerfleet_API_CredentialsI.txt']\n",
      "Error: The file './Powerfleet_API_CredentialsI.txt,' was not found.\n",
      "\u001b[31mError: Missing 'cid' or 'api_key' in the credentials file.\n",
      "\u001b[0m\n",
      "\u001b[32mCSV file saved as response_data_set.csv\n",
      "\u001b[0m\n"
     ]
    }
   ],
   "source": [
    "import json\n",
    "import pandas as pd\n",
    "from Powerfleet_API_Management import PowerfleetAPIManager as powerfleet_API\n",
    "from colorama import Fore, Style\n",
    "\n",
    "startDate = \"2024-10-23 15:32:24\"  # Indicative start date\n",
    "endDate = \"2024-11-25 15:32:24\"  # Indicative end date\n",
    "api_manager = powerfleet_API(startDate, endDate)  # Get data\n",
    "\n",
    "output_file = \"response_data_set.csv\"\n",
    "\n",
    "# Retrieve response data from the API\n",
    "response_data = api_manager.retrieve_response()\n",
    "\n",
    "# Write the JSON response data to a file\n",
    "with open('JSON_response.json', 'w') as json_file:\n",
    "    json.dump(response_data, json_file, indent=4)\n",
    "\n",
    "try:\n",
    "    # Read the JSON file into a pandas DataFrame\n",
    "    df = pd.read_json('JSON_response.json')\n",
    "\n",
    "    # Add the start and end date columns to the DataFrame\n",
    "    df['startDate'] = startDate\n",
    "    df['endDate'] = endDate\n",
    "\n",
    "    # Write the DataFrame to CSV\n",
    "    df.to_csv(output_file, index=False)\n",
    "\n",
    "    print(Fore.GREEN + f\"CSV file saved as {output_file}\")\n",
    "    print(Style.RESET_ALL)\n",
    "\n",
    "except ValueError as e:\n",
    "    print(Fore.RED + \"Error: The JSON file structure is not appropriate for conversion.\", e)\n",
    "    print(Style.RESET_ALL)\n"
   ]
  }
 ],
 "metadata": {
  "kernelspec": {
   "display_name": "ArcGIS",
   "language": "python",
   "name": "python3"
  },
  "language_info": {
   "codemirror_mode": {
    "name": "ipython",
    "version": 3
   },
   "file_extension": ".py",
   "mimetype": "text/x-python",
   "name": "python",
   "nbconvert_exporter": "python",
   "pygments_lexer": "ipython3",
   "version": "3.9.19"
  }
 },
 "nbformat": 4,
 "nbformat_minor": 2
}
