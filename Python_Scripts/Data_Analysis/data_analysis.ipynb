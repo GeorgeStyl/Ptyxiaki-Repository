{
 "cells": [
  {
   "cell_type": "markdown",
   "metadata": {},
   "source": [
    "<!-- Initialize **API** **managers** -->"
   ]
  },
  {
   "cell_type": "code",
   "execution_count": 1,
   "metadata": {},
   "outputs": [
    {
     "name": "stdout",
     "output_type": "stream",
     "text": [
      "\u001b[33mMAIN CWD=/home/georger/WorkDocuments/Sxoli/Ptyxiaki/Ptyxiaki-Repository/Python_Scripts/Data_Analysis\n",
      "MAIN, LISTDIR=['Powerfleet_APIs_Management.py', 'PARAMETERS.json', '__pycache__', 'data_analysis.ipynb']\u001b[0m\n",
      "Live API Check:\n",
      "It's Live API\n",
      "<Response [200]>\n",
      "API Request Successful!\n",
      "Response: {'11': {'date': '23/09/2024 12:01:14', 'fuelLevel': '-1.0', 'lng': '22.3707916', 'vehicleId': '11', 'velocity': '22.0', 'ignition': '0', 'lat': '37.5311933', 'hashValue': '00441775020425039985'}, '12': {'date': '23/09/2024 10:59:52', 'fuelLevel': '-1.0', 'lng': '22.3817983', 'vehicleId': '12', 'velocity': '29.0', 'ignition': '0', 'lat': '37.517725', 'hashValue': '00441775020425039986'}, '13': {'date': '26/09/2024 13:07:57', 'fuelLevel': '-1.0', 'lng': '22.3708516', 'vehicleId': '13', 'velocity': '0.0', 'ignition': '0', 'lat': '37.53136', 'hashValue': '00441775020425039987'}, '14': {'date': '22/05/2024 16:34:46', 'fuelLevel': '-1.0', 'lng': '23.7483633', 'vehicleId': '14', 'velocity': '0.0', 'ignition': '0', 'lat': '38.0347233', 'hashValue': '00441775020425039988'}, '15': {'date': '27/11/2024 20:00:48', 'fuelLevel': '-1.0', 'lng': '23.7606516', 'vehicleId': '15', 'velocity': '0.0', 'ignition': '0', 'lat': '38.0506533', 'hashValue': '00441775020425039989'}, '16': {'date': '22/05/2024 16:40:30', 'fuelLevel': '-1.0', 'lng': '23.7478783', 'vehicleId': '16', 'velocity': '21.0', 'ignition': '0', 'lat': '38.0349233', 'hashValue': '00441775020425039990'}, '17': {'date': '22/05/2024 17:35:42', 'fuelLevel': '-1.0', 'lng': '23.7474083', 'vehicleId': '17', 'velocity': '23.0', 'ignition': '0', 'lat': '38.0353349', 'hashValue': '00441775020425039991'}, '18': {'date': '22/05/2024 17:40:15', 'fuelLevel': '-1.0', 'lng': '23.7479566', 'vehicleId': '18', 'velocity': '0.0', 'ignition': '0', 'lat': '38.03477', 'hashValue': '00441775020425039992'}, '19': {'date': '31/07/2024 16:51:29', 'fuelLevel': '-1.0', 'lng': '22.38643', 'vehicleId': '19', 'velocity': '10.0', 'ignition': '0', 'lat': '37.5107733', 'hashValue': '00441775020425039993'}, '1': {'date': '26/09/2024 13:09:50', 'fuelLevel': '-1.0', 'lng': '22.3863883', 'vehicleId': '1', 'velocity': '0.0', 'ignition': '0', 'lat': '37.5108183', 'hashValue': '00441775020425039954'}, '2': {'date': '22/05/2024 17:34:29', 'fuelLevel': '-1.0', 'lng': '23.74821', 'vehicleId': '2', 'velocity': '0.0', 'ignition': '0', 'lat': '38.0345199', 'hashValue': '00441775020425039955'}, '3': {'date': '22/05/2024 17:34:53', 'fuelLevel': '-1.0', 'lng': '23.7473533', 'vehicleId': '3', 'velocity': '6.0', 'ignition': '0', 'lat': '38.0351866', 'hashValue': '00441775020425039956'}, '4': {'date': '23/09/2024 12:00:18', 'fuelLevel': '-1.0', 'lng': '22.3862533', 'vehicleId': '4', 'velocity': '6.0', 'ignition': '0', 'lat': '37.5109933', 'hashValue': '00441775020425039957'}, '5': {'date': '26/09/2024 12:30:05', 'fuelLevel': '-1.0', 'lng': '22.3865566', 'vehicleId': '5', 'velocity': '23.0', 'ignition': '0', 'lat': '37.5107783', 'hashValue': '00441775020425039958'}, '6': {'date': '22/05/2024 16:34:47', 'fuelLevel': '-1.0', 'lng': '23.7481699', 'vehicleId': '6', 'velocity': '9.0', 'ignition': '0', 'lat': '38.0346549', 'hashValue': '00441775020425039959'}, '7': {'date': '27/11/2024 16:11:15', 'fuelLevel': '-1.0', 'lng': '22.371945', 'vehicleId': '7', 'velocity': '4.0', 'ignition': '0', 'lat': '37.5275166', 'hashValue': '00441775020425039960'}, '8': {'date': '22/05/2024 17:34:30', 'fuelLevel': '-1.0', 'lng': '23.7481316', 'vehicleId': '8', 'velocity': '4.0', 'ignition': '0', 'lat': '38.0347633', 'hashValue': '00441775020425039961'}, '9': {'date': '27/11/2024 20:58:00', 'fuelLevel': '-1.0', 'lng': '22.3794633', 'vehicleId': '9', 'velocity': '8.0', 'ignition': '0', 'lat': '37.5103333', 'hashValue': '00441775020425039962'}, '20': {'date': '22/05/2024 17:50:05', 'fuelLevel': '-1.0', 'lng': '23.7446233', 'vehicleId': '20', 'velocity': '28.0', 'ignition': '0', 'lat': '38.0360933', 'hashValue': '00441775020425040015'}, '10': {'date': '22/05/2024 17:34:53', 'fuelLevel': '-1.0', 'lng': '23.7480966', 'vehicleId': '10', 'velocity': '6.0', 'ignition': '0', 'lat': '38.034715', 'hashValue': '00441775020425039984'}}\n",
      "\n",
      "Snapshot API Check:\n",
      "It's Snapshot API\n"
     ]
    }
   ],
   "source": [
    "import os\n",
    "import json\n",
    "import pandas as pd\n",
    "from Powerfleet_APIs_Management import PowerFleetAPIsManager as ApiManager\n",
    "from colorama import Fore, Style\n",
    "import sys  # For printing caught exceptions\n",
    "import re\n",
    "from datetime import datetime\n",
    "\n",
    "\n",
    "print(Fore.YELLOW + f\"MAIN CWD={os.getcwd()}\")\n",
    "print(f\"MAIN, LISTDIR={os.listdir()}\" + Style.RESET_ALL)\n",
    "\n",
    "\n",
    "\n",
    "\n",
    "# Define the ApiParameterExtractor class\n",
    "class ApiParameterExtractor:\n",
    "    def __init__(self, json_file):\n",
    "        with open(json_file, 'r') as file:\n",
    "            self.parameters = json.load(file)\n",
    "\n",
    "    def extract_parameters(self, api_type):\n",
    "        # Normalize API type to lowercase\n",
    "        api_type = api_type.lower()\n",
    "        \n",
    "        # Validate API type\n",
    "        if api_type not in self.parameters:\n",
    "            raise ValueError(f\"Invalid API type: {api_type}. Valid types are 'live_api' or 'snapshot_api'.\")\n",
    "        \n",
    "        # Return the corresponding dictionary for the given API type\n",
    "        return self.parameters[api_type]\n",
    "\n",
    "# Load parameters from the JSON file\n",
    "extractor = ApiParameterExtractor(\"PARAMETERS.json\")\n",
    "\n",
    "# Extract parameters for live_api and snapshot_api\n",
    "live_api_params = extractor.extract_parameters(\"live_api\")\n",
    "snapshot_api_params = extractor.extract_parameters(\"snapshot_api\")\n",
    "\n",
    "# Pass the extracted parameters to PowerFleetAPIsManager\n",
    "live_api_manager = ApiManager(live_api_params)\n",
    "snapshot_api_manager = ApiManager(snapshot_api_params)\n",
    "\n",
    "# Determine API type\n",
    "print(\"Live API Check:\")\n",
    "live_api_manager.get_live_data()\n",
    "\n",
    "print(\"\\nSnapshot API Check:\")\n",
    "snapshot_api_manager.get_snapshot_data()\n",
    "\n",
    "\n",
    "\n",
    "\n",
    "\n"
   ]
  },
  {
   "cell_type": "markdown",
   "metadata": {},
   "source": [
    "Initialize **parameters** for each API"
   ]
  },
  {
   "cell_type": "code",
   "execution_count": null,
   "metadata": {},
   "outputs": [],
   "source": []
  },
  {
   "cell_type": "markdown",
   "metadata": {},
   "source": [
    "Initialize **Live API**"
   ]
  },
  {
   "cell_type": "code",
   "execution_count": null,
   "metadata": {},
   "outputs": [],
   "source": [
    "l = LiveAPI()\n",
    "\n",
    "\n",
    "\n",
    "plate_number = \"\" #! if empty => fetches every vehicle\n",
    "response = l.retrieve_response(http_method='get') #! Live API needs GET HTTP METHOD\n",
    "\n",
    "if response:\n",
    "    print(\"API response received successfully!\")\n",
    "    \n",
    "    # Write the response to a file\n",
    "    output_file_name = 'Live_API_Response_data_set.json'  # Specify the desired output file name\n",
    "    l.write_response_to_file(response_data=response, output_file=output_file_name)\n",
    "else:\n",
    "    print(\"Failed to retrieve the API response.\")"
   ]
  },
  {
   "cell_type": "markdown",
   "metadata": {},
   "source": [
    "Initialize **Snapshot API**"
   ]
  },
  {
   "cell_type": "code",
   "execution_count": null,
   "metadata": {},
   "outputs": [],
   "source": [
    "#* Parameters for snapshot data\n",
    "starting_date = \"2024-01-01 00:00:00\"\n",
    "ending_date = \"2024-11-23 23:59:59\"\n",
    "vehicle_id = \"7\"\n",
    "\n",
    "\n",
    "#* Create an instance for Snapshot Data\n",
    "snapshot_manager = SnapshotAPI(starting_date, ending_date, vehicle_id)\n",
    "\n",
    "#* Call the retrieve_extended_response method to fetch data\n",
    "snapshot_response = snapshot_manager.retrieve_extended_response() \n",
    "\n",
    "if snapshot_response:\n",
    "    print(Fore.GREEN + \"Snapshot data retrieved successfully!\" + Style.RESET_ALL)\n",
    "    print(json.dumps(snapshot_response, indent=4))  \n",
    "else:\n",
    "    print(Fore.RED + \"Failed to retrieve snapshot data.\" + Style.RESET_ALL)"
   ]
  },
  {
   "cell_type": "markdown",
   "metadata": {},
   "source": [
    "Print the constructed URL and DATA for debugging"
   ]
  },
  {
   "cell_type": "code",
   "execution_count": null,
   "metadata": {},
   "outputs": [],
   "source": [
    "print(f\"Constructed URL: {snapshot_manager.URL}\")\n",
    "print(f\"Constructed DATA: {snapshot_manager.DATA}\")"
   ]
  },
  {
   "cell_type": "markdown",
   "metadata": {},
   "source": [
    "Print the constructed URL and DATA for debugging"
   ]
  },
  {
   "cell_type": "code",
   "execution_count": null,
   "metadata": {},
   "outputs": [],
   "source": [
    "print(f\"Constructed URL: {api_manager.URL}\")\n",
    "print(f\"Constructed DATA: {api_manager.DATA}\")"
   ]
  },
  {
   "cell_type": "markdown",
   "metadata": {},
   "source": [
    "Convert **JSON** to **CSV** so that **pandas** be able to use it\n"
   ]
  },
  {
   "cell_type": "markdown",
   "metadata": {},
   "source": [
    "Visualize data **dispersion**"
   ]
  },
  {
   "cell_type": "code",
   "execution_count": null,
   "metadata": {},
   "outputs": [],
   "source": []
  }
 ],
 "metadata": {
  "kernelspec": {
   "display_name": "ArcGIS",
   "language": "python",
   "name": "python3"
  },
  "language_info": {
   "codemirror_mode": {
    "name": "ipython",
    "version": 3
   },
   "file_extension": ".py",
   "mimetype": "text/x-python",
   "name": "python",
   "nbconvert_exporter": "python",
   "pygments_lexer": "ipython3",
   "version": "3.9.19"
  }
 },
 "nbformat": 4,
 "nbformat_minor": 2
}
